{
 "cells": [
  {
   "cell_type": "code",
   "execution_count": 1,
   "id": "bf1d3ccb",
   "metadata": {},
   "outputs": [],
   "source": [
    "# Dependencies & Installs\n",
    "%matplotlib inline\n",
    "import matplotlib.pyplot as plt\n",
    "import pandas as pd\n",
    "import csv\n",
    "from sklearn.preprocessing import StandardScaler\n",
    "from sklearn.linear_model import LogisticRegression\n",
    "from sklearn.model_selection import train_test_split\n",
    "from sklearn.metrics import accuracy_score\n",
    "from sklearn.tree import DecisionTreeClassifier\n",
    "from sklearn.ensemble import RandomForestClassifier\n",
    "from sklearn.svm import SVC\n",
    "from sklearn.model_selection import RandomizedSearchCV\n",
    "from sklearn.model_selection import GridSearchCV\n",
    "import numpy as np\n",
    "import warnings\n",
    "import joblib"
   ]
  },
  {
   "cell_type": "code",
   "execution_count": 2,
   "id": "fb5ac891",
   "metadata": {},
   "outputs": [],
   "source": [
    "data = pd.read_csv('../Data_Cleaned/clinic_proteins.csv')\n",
    "\n",
    "# Reclassified: 1 vs 2,3,4 healthy vs all\n",
    "df1= data\n",
    "df1['target'] = df1['Patient Group'].map({'BE-HGD': 1, 'EAC': 1, 'BE': 1, 'BE-ID': 1, 'BE-LGD': 1, 'NSE': 0})\n",
    "df1 = df1[df1.target<2]\n",
    "\n",
    "# Reclassified: 2 vs 3&4 BE low vs BE-HGD & EAC\n",
    "df2 = data\n",
    "df2['target'] = df2['Patient Group'].map({'BE-HGD': 1, 'EAC': 1, 'BE': 0, 'BE-ID': 0, 'BE-LGD': 0, 'NSE': 2})\n",
    "df2 = df2[df2.target<2]\n",
    "\n",
    "# Reclassified: 2 vs 3 BE low vs BE-HGD\n",
    "df3 = data\n",
    "df3['target'] = df3['Patient Group'].map({'BE-HGD': 1, 'EAC': 2, 'BE': 0, 'BE-ID': 0, 'BE-LGD': 0, 'NSE': 2})\n",
    "df3 = df3[df3.target<2]\n",
    "\n",
    "# Reclassified: 3 vs 4 BE-HGD vs AEC\n",
    "df4 = data\n",
    "df4['target'] = df4['Patient Group'].map({'BE-HGD': 0, 'EAC': 1, 'BE': 2, 'BE-ID': 2, 'BE-LGD': 2, 'NSE': 2})\n",
    "df4 = df4[df4.target<2]\n",
    "\n",
    "# Reclassified: 1&2 vs 3&4 \n",
    "df5 = data\n",
    "df5['target'] = df5['Patient Group'].map({'BE-HGD': 1, 'EAC': 1, 'BE': 0, 'BE-ID': 0, 'BE-LGD': 0, 'NSE': 0})\n",
    "df5 = df5[df5.target<2]"
   ]
  },
  {
   "cell_type": "code",
   "execution_count": 3,
   "id": "141a2b5b",
   "metadata": {},
   "outputs": [
    {
     "name": "stdout",
     "output_type": "stream",
     "text": [
      "Data 1 Shape:  (257, 165) (257,)\n",
      "Data 2 Shape:  (204, 165) (204,)\n",
      "Data 3 Shape:  (149, 165) (149,)\n",
      "Data 4 Shape:  (93, 165) (93,)\n",
      "Data 5 Shape:  (257, 165) (257,)\n"
     ]
    }
   ],
   "source": [
    "# Create X and y\n",
    "\n",
    "X1 = df1.drop(['Patient Group', 'target'], axis=1)\n",
    "y1 = df1['target']\n",
    "\n",
    "X2 = df2.drop(['Patient Group', 'target'], axis=1)\n",
    "y2 = df2['target']\n",
    "\n",
    "X3 = df3.drop(['Patient Group', 'target'], axis=1)\n",
    "y3 = df3['target']\n",
    "\n",
    "X4 = df4.drop(['Patient Group', 'target'], axis=1)\n",
    "y4 = df4['target']\n",
    "\n",
    "X5 = df5.drop(['Patient Group', 'target'], axis=1)\n",
    "y5 = df5['target']\n",
    "\n",
    "print(\"Data 1 Shape: \", X1.shape, y1.shape)\n",
    "print(\"Data 2 Shape: \", X2.shape, y2.shape)\n",
    "print(\"Data 3 Shape: \", X3.shape, y3.shape)\n",
    "print(\"Data 4 Shape: \", X4.shape, y4.shape)\n",
    "print(\"Data 5 Shape: \", X5.shape, y5.shape)"
   ]
  },
  {
   "cell_type": "code",
   "execution_count": 4,
   "id": "2ea65465",
   "metadata": {},
   "outputs": [],
   "source": [
    "# Initiate the classifier model\n",
    "classifier = LogisticRegression(max_iter=1000)"
   ]
  },
  {
   "cell_type": "code",
   "execution_count": 5,
   "id": "5bec9555",
   "metadata": {},
   "outputs": [
    {
     "name": "stdout",
     "output_type": "stream",
     "text": [
      "Group 1: Healthy vs the rest\n",
      "Training Data Score: 0.9560975609756097\n",
      "Testing Data Score: 0.7692307692307693\n",
      "Accuracy: 76.92%\n"
     ]
    },
    {
     "data": {
      "text/plain": [
       "['Model_Saved/model11_X_scaler.joblib']"
      ]
     },
     "execution_count": 5,
     "metadata": {},
     "output_type": "execute_result"
    }
   ],
   "source": [
    "# Split the data into training and testing sets \n",
    "X_train, X_test, y_train, y_test = train_test_split(X1, y1, test_size=0.2, random_state=0)\n",
    "\n",
    "X_scaler = StandardScaler().fit(X_train)\n",
    "X_train_scaled = X_scaler.transform(X_train)\n",
    "X_test_scaled = X_scaler.transform(X_test)\n",
    "\n",
    "# Fit, train and test the model\n",
    "model11 = classifier.fit(X_train_scaled, y_train)\n",
    "print('Group 1: Healthy vs the rest')\n",
    "print(f\"Training Data Score: {classifier.score(X_train_scaled, y_train)}\")\n",
    "print(f\"Testing Data Score: {classifier.score(X_test_scaled, y_test)}\")\n",
    "\n",
    "# Make predictions on the test data\n",
    "y_pred = model11.predict(X_test_scaled)\n",
    "\n",
    "# Calculate the accuracy of the model\n",
    "accuracy = accuracy_score(y_test, y_pred)\n",
    "print('Accuracy: {:.2f}%'.format(accuracy * 100))\n",
    "\n",
    "# Save the model to the \"Model_Saved\" folder\n",
    "joblib.dump(model11, \"Model_Saved/model11_LogisticRegression.joblib\")\n",
    "\n",
    "# Save the scaler to the \"Model_Saved\" folder\n",
    "joblib.dump(X_scaler, \"Model_Saved/model11_X_scaler.joblib\")"
   ]
  },
  {
   "cell_type": "code",
   "execution_count": 10,
   "id": "21c67779",
   "metadata": {},
   "outputs": [
    {
     "name": "stdout",
     "output_type": "stream",
     "text": [
      "0.7692307692307693\n"
     ]
    }
   ],
   "source": [
    "loaded_model = joblib.load(\"Model_Saved/model11_LogisticRegression.joblib\")\n",
    "result = loaded_model.score(X_test_scaled, y_test)\n",
    "print(result)"
   ]
  },
  {
   "cell_type": "code",
   "execution_count": 6,
   "id": "c0f91d9f",
   "metadata": {},
   "outputs": [
    {
     "name": "stdout",
     "output_type": "stream",
     "text": [
      "Group 2: BE (low dysplasia) vs BE-HDG & AEC\n",
      "Training Data Score: 0.9815950920245399\n",
      "Testing Data Score: 0.5121951219512195\n",
      "Accuracy: 51.22%\n"
     ]
    },
    {
     "data": {
      "text/plain": [
       "['Model_Saved/model12_X_scaler.joblib']"
      ]
     },
     "execution_count": 6,
     "metadata": {},
     "output_type": "execute_result"
    }
   ],
   "source": [
    "# Split the data into training and testing sets \n",
    "X_train, X_test, y_train, y_test = train_test_split(X2, y2, test_size=0.2, random_state=0)\n",
    "\n",
    "X_scaler = StandardScaler().fit(X_train)\n",
    "X_train_scaled = X_scaler.transform(X_train)\n",
    "X_test_scaled = X_scaler.transform(X_test)\n",
    "\n",
    "# Fit, train and test the model\n",
    "model12 = classifier.fit(X_train_scaled, y_train)\n",
    "print('Group 2: BE (low dysplasia) vs BE-HDG & AEC')\n",
    "print(f\"Training Data Score: {classifier.score(X_train_scaled, y_train)}\")\n",
    "print(f\"Testing Data Score: {classifier.score(X_test_scaled, y_test)}\")\n",
    "\n",
    "# Make predictions on the test data\n",
    "y_pred = model12.predict(X_test_scaled)\n",
    "\n",
    "# Calculate the accuracy of the model\n",
    "accuracy = accuracy_score(y_test, y_pred)\n",
    "print('Accuracy: {:.2f}%'.format(accuracy * 100))\n",
    "\n",
    "# Save the model to the \"Model_Saved\" folder\n",
    "joblib.dump(model12, \"Model_Saved/model12_LogisticRegression.joblib\")\n",
    "\n",
    "# Save the scaler to the \"Model_Saved\" folder\n",
    "joblib.dump(X_scaler, \"Model_Saved/model12_X_scaler.joblib\")"
   ]
  },
  {
   "cell_type": "code",
   "execution_count": 7,
   "id": "55d85c2a",
   "metadata": {},
   "outputs": [
    {
     "name": "stdout",
     "output_type": "stream",
     "text": [
      "Group 3: BE low vs BE-HDG\n",
      "Training Data Score: 0.9915966386554622\n",
      "Testing Data Score: 0.6333333333333333\n",
      "Accuracy: 63.33%\n"
     ]
    },
    {
     "data": {
      "text/plain": [
       "['Model_Saved/model13_X_scaler.joblib']"
      ]
     },
     "execution_count": 7,
     "metadata": {},
     "output_type": "execute_result"
    }
   ],
   "source": [
    "# Split the data into training and testing sets \n",
    "X_train, X_test, y_train, y_test = train_test_split(X3, y3, test_size=0.2, random_state=0)\n",
    "\n",
    "X_scaler = StandardScaler().fit(X_train)\n",
    "X_train_scaled = X_scaler.transform(X_train)\n",
    "X_test_scaled = X_scaler.transform(X_test)\n",
    "\n",
    "# Fit, train and test the model\n",
    "model13 = classifier.fit(X_train_scaled, y_train)\n",
    "print('Group 3: BE low vs BE-HDG')\n",
    "print(f\"Training Data Score: {classifier.score(X_train_scaled, y_train)}\")\n",
    "print(f\"Testing Data Score: {classifier.score(X_test_scaled, y_test)}\")\n",
    "\n",
    "# Make predictions on the test data\n",
    "y_pred = model13.predict(X_test_scaled)\n",
    "\n",
    "# Calculate the accuracy of the model\n",
    "accuracy = accuracy_score(y_test, y_pred)\n",
    "print('Accuracy: {:.2f}%'.format(accuracy * 100))\n",
    "\n",
    "# Save the model to the \"Model_Saved\" folder\n",
    "joblib.dump(model13, \"Model_Saved/model13_LogisticRegression.joblib\")\n",
    "\n",
    "# Save the scaler to the \"Model_Saved\" folder\n",
    "joblib.dump(X_scaler, \"Model_Saved/model13_X_scaler.joblib\")"
   ]
  },
  {
   "cell_type": "code",
   "execution_count": 12,
   "id": "4e4bfefe",
   "metadata": {},
   "outputs": [
    {
     "name": "stdout",
     "output_type": "stream",
     "text": [
      "Group 4: BE-HDG vs AEC\n",
      "Training Data Score: 0.9864864864864865\n",
      "Testing Data Score: 0.47368421052631576\n",
      "Accuracy: 47.37%\n"
     ]
    },
    {
     "data": {
      "text/plain": [
       "['Model_Saved/model14_X_scaler.joblib']"
      ]
     },
     "execution_count": 12,
     "metadata": {},
     "output_type": "execute_result"
    }
   ],
   "source": [
    "# Split the data into training and testing sets \n",
    "X_train, X_test, y_train, y_test = train_test_split(X4, y4, test_size=0.2, random_state=0)\n",
    "\n",
    "X_scaler = StandardScaler().fit(X_train)\n",
    "X_train_scaled = X_scaler.transform(X_train)\n",
    "X_test_scaled = X_scaler.transform(X_test)\n",
    "\n",
    "# Fit, train and test the model\n",
    "model14 = classifier.fit(X_train_scaled, y_train)\n",
    "print('Group 4: BE-HDG vs AEC')\n",
    "print(f\"Training Data Score: {classifier.score(X_train_scaled, y_train)}\")\n",
    "print(f\"Testing Data Score: {classifier.score(X_test_scaled, y_test)}\")\n",
    "\n",
    "# Make predictions on the test data\n",
    "y_pred = model14.predict(X_test_scaled)\n",
    "\n",
    "# Calculate the accuracy of the model\n",
    "accuracy = accuracy_score(y_test, y_pred)\n",
    "print('Accuracy: {:.2f}%'.format(accuracy * 100))\n",
    "\n",
    "# Save the model to the \"Model_Saved\" folder\n",
    "joblib.dump(model14, \"Model_Saved/model14_LogisticRegression.joblib\")\n",
    "\n",
    "# Save the scaler to the \"Model_Saved\" folder\n",
    "joblib.dump(X_scaler, \"Model_Saved/model14_X_scaler.joblib\")"
   ]
  },
  {
   "cell_type": "code",
   "execution_count": 13,
   "id": "c5ba4ae0",
   "metadata": {},
   "outputs": [
    {
     "name": "stdout",
     "output_type": "stream",
     "text": [
      "Group 5: Healthy & BE low vs BE-HDG & AEC\n",
      "Training Data Score: 0.9512195121951219\n",
      "Testing Data Score: 0.6153846153846154\n",
      "Accuracy: 61.54%\n"
     ]
    },
    {
     "data": {
      "text/plain": [
       "['Model_Saved/model15_X_scaler.joblib']"
      ]
     },
     "execution_count": 13,
     "metadata": {},
     "output_type": "execute_result"
    }
   ],
   "source": [
    "# Split the data into training and testing sets \n",
    "X_train, X_test, y_train, y_test = train_test_split(X5, y5, test_size=0.2, random_state=0)\n",
    "\n",
    "X_scaler = StandardScaler().fit(X_train)\n",
    "X_train_scaled = X_scaler.transform(X_train)\n",
    "X_test_scaled = X_scaler.transform(X_test)\n",
    "\n",
    "# Fit, train and test the model\n",
    "model15 = classifier.fit(X_train_scaled, y_train)\n",
    "print('Group 5: Healthy & BE low vs BE-HDG & AEC')\n",
    "print(f\"Training Data Score: {classifier.score(X_train_scaled, y_train)}\")\n",
    "print(f\"Testing Data Score: {classifier.score(X_test_scaled, y_test)}\")\n",
    "\n",
    "# Make predictions on the test data\n",
    "y_pred = model15.predict(X_test_scaled)\n",
    "\n",
    "# Calculate the accuracy of the model\n",
    "accuracy = accuracy_score(y_test, y_pred)\n",
    "print('Accuracy: {:.2f}%'.format(accuracy * 100))\n",
    "\n",
    "# Save the model to the \"Model_Saved\" folder\n",
    "joblib.dump(model15, \"Model_Saved/model15_LogisticRegression.joblib\")\n",
    "\n",
    "# Save the scaler to the \"Model_Saved\" folder\n",
    "joblib.dump(X_scaler, \"Model_Saved/model15_X_scaler.joblib\")"
   ]
  },
  {
   "cell_type": "code",
   "execution_count": null,
   "id": "24892b9e",
   "metadata": {},
   "outputs": [],
   "source": [
    "# with open('results.csv', 'w', newline='') as file:\n",
    "#      writer = csv.writer(file)\n",
    "     \n",
    "#      writer.writerow([model_tested])\n",
    "#      writer.writerow([train_score])\n",
    "#      writer.writerow([test_score])"
   ]
  }
 ],
 "metadata": {
  "kernelspec": {
   "display_name": "Python [conda env:PythonData] *",
   "language": "python",
   "name": "conda-env-PythonData-py"
  },
  "language_info": {
   "codemirror_mode": {
    "name": "ipython",
    "version": 3
   },
   "file_extension": ".py",
   "mimetype": "text/x-python",
   "name": "python",
   "nbconvert_exporter": "python",
   "pygments_lexer": "ipython3",
   "version": "3.7.7"
  }
 },
 "nbformat": 4,
 "nbformat_minor": 5
}
