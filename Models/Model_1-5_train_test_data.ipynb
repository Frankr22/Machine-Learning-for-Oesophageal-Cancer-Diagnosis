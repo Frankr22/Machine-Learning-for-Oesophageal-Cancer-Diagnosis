{
 "cells": [
  {
   "cell_type": "code",
   "execution_count": 1,
   "id": "57226322",
   "metadata": {},
   "outputs": [],
   "source": [
    "# Dependencies & Installs\n",
    "%matplotlib inline\n",
    "import matplotlib.pyplot as plt\n",
    "import pandas as pd\n",
    "import csv\n",
    "from sklearn.preprocessing import StandardScaler\n",
    "from sklearn.linear_model import LogisticRegression\n",
    "from sklearn.model_selection import train_test_split\n",
    "from sklearn.metrics import accuracy_score\n",
    "from sklearn.tree import DecisionTreeClassifier\n",
    "from sklearn.ensemble import RandomForestClassifier\n",
    "from sklearn.svm import SVC\n",
    "from sklearn.model_selection import RandomizedSearchCV\n",
    "from sklearn.model_selection import GridSearchCV\n",
    "import numpy as np\n",
    "import warnings\n",
    "import joblib"
   ]
  },
  {
   "cell_type": "code",
   "execution_count": 2,
   "id": "b240bfab",
   "metadata": {},
   "outputs": [],
   "source": [
    "data = pd.read_csv('../Data_Cleaned/train_test_set.csv')\n",
    "\n",
    "# Reclassified: 1 vs 2,3,4 healthy vs all\n",
    "df1= data\n",
    "df1['target'] = df1['Patient Group'].map({'BE-HGD': 1, 'EAC': 1, 'BE': 1, 'BE-ID': 1, 'BE-LGD': 1, 'NSE': 0})\n",
    "df1 = df1[df1.target<2]\n",
    "\n",
    "# Reclassified: 2 vs 3&4 BE low vs BE-HGD & EAC\n",
    "df2 = data\n",
    "df2['target'] = df2['Patient Group'].map({'BE-HGD': 1, 'EAC': 1, 'BE': 0, 'BE-ID': 0, 'BE-LGD': 0, 'NSE': 2})\n",
    "df2 = df2[df2.target<2]\n",
    "\n",
    "# Reclassified: 2 vs 3 BE low vs BE-HGD\n",
    "df3 = data\n",
    "df3['target'] = df3['Patient Group'].map({'BE-HGD': 1, 'EAC': 2, 'BE': 0, 'BE-ID': 0, 'BE-LGD': 0, 'NSE': 2})\n",
    "df3 = df3[df3.target<2]\n",
    "\n",
    "# Reclassified: 3 vs 4 BE-HGD vs AEC\n",
    "df4 = data\n",
    "df4['target'] = df4['Patient Group'].map({'BE-HGD': 0, 'EAC': 1, 'BE': 2, 'BE-ID': 2, 'BE-LGD': 2, 'NSE': 2})\n",
    "df4 = df4[df4.target<2]\n",
    "\n",
    "# Reclassified: 1&2 vs 3&4 \n",
    "df5 = data\n",
    "df5['target'] = df5['Patient Group'].map({'BE-HGD': 1, 'EAC': 1, 'BE': 0, 'BE-ID': 0, 'BE-LGD': 0, 'NSE': 0})\n",
    "df5 = df5[df5.target<2]"
   ]
  },
  {
   "cell_type": "code",
   "execution_count": 3,
   "id": "e67bc3fa",
   "metadata": {},
   "outputs": [
    {
     "name": "stdout",
     "output_type": "stream",
     "text": [
      "Data 1 Shape:  (257, 190) (257,)\n",
      "Data 2 Shape:  (204, 190) (204,)\n",
      "Data 3 Shape:  (149, 190) (149,)\n",
      "Data 4 Shape:  (93, 190) (93,)\n",
      "Data 5 Shape:  (257, 190) (257,)\n"
     ]
    }
   ],
   "source": [
    "# Create X and y\n",
    "\n",
    "X1 = df1.drop(['Patient Group', 'target'], axis=1)\n",
    "y1 = df1['target']\n",
    "\n",
    "X2 = df2.drop(['Patient Group', 'target'], axis=1)\n",
    "y2 = df2['target']\n",
    "\n",
    "X3 = df3.drop(['Patient Group', 'target'], axis=1)\n",
    "y3 = df3['target']\n",
    "\n",
    "X4 = df4.drop(['Patient Group', 'target'], axis=1)\n",
    "y4 = df4['target']\n",
    "\n",
    "X5 = df5.drop(['Patient Group', 'target'], axis=1)\n",
    "y5 = df5['target']\n",
    "\n",
    "print(\"Data 1 Shape: \", X1.shape, y1.shape)\n",
    "print(\"Data 2 Shape: \", X2.shape, y2.shape)\n",
    "print(\"Data 3 Shape: \", X3.shape, y3.shape)\n",
    "print(\"Data 4 Shape: \", X4.shape, y4.shape)\n",
    "print(\"Data 5 Shape: \", X5.shape, y5.shape)"
   ]
  },
  {
   "cell_type": "code",
   "execution_count": 4,
   "id": "52ed1feb",
   "metadata": {},
   "outputs": [
    {
     "name": "stdout",
     "output_type": "stream",
     "text": [
      "Group 1: Healthy vs the rest\n",
      "Training Data Score: 0.9658536585365853\n",
      "Testing Data Score: 0.7884615384615384\n",
      "Accuracy: 78.85%\n"
     ]
    },
    {
     "data": {
      "text/plain": [
       "['Model_Saved/model1_LogisticRegression.joblib']"
      ]
     },
     "execution_count": 4,
     "metadata": {},
     "output_type": "execute_result"
    }
   ],
   "source": [
    "# Initiate the classifier model\n",
    "classifier = LogisticRegression(max_iter=1000)\n",
    "\n",
    "# Split the data into training and testing sets \n",
    "X_train, X_test, y_train, y_test = train_test_split(X1, y1, test_size=0.2, random_state=0)\n",
    "\n",
    "X_scaler = StandardScaler().fit(X_train)\n",
    "\n",
    "X_train_scaled = X_scaler.transform(X_train)\n",
    "X_test_scaled = X_scaler.transform(X_test)\n",
    "\n",
    "# Save the scaler to the \"Model_Saved\" folder\n",
    "joblib.dump(X_scaler, \"Model_Saved/model1_X_scaler.joblib\")\n",
    "\n",
    "# Fit, train and test the model\n",
    "model1 = classifier.fit(X_train_scaled, y_train)\n",
    "print('Group 1: Healthy vs the rest')\n",
    "print(f\"Training Data Score: {classifier.score(X_train_scaled, y_train)}\")\n",
    "print(f\"Testing Data Score: {classifier.score(X_test_scaled, y_test)}\")\n",
    "\n",
    "# Make predictions on the test data\n",
    "y_pred = model1.predict(X_test_scaled)\n",
    "\n",
    "# Calculate the accuracy of the model\n",
    "accuracy = accuracy_score(y_test, y_pred)\n",
    "print('Accuracy: {:.2f}%'.format(accuracy * 100))\n",
    "\n",
    "# Save the model to the \"Model_Saved\" folder\n",
    "joblib.dump(model1, \"Model_Saved/model1_LogisticRegression.joblib\")"
   ]
  },
  {
   "cell_type": "code",
   "execution_count": 5,
   "id": "4abda793",
   "metadata": {},
   "outputs": [
    {
     "name": "stdout",
     "output_type": "stream",
     "text": [
      "Group 2: BE (low dysplasia) vs BE-HDG & AEC\n",
      "Training Data Score: 0.9815950920245399\n",
      "Testing Data Score: 0.5609756097560976\n",
      "Accuracy: 56.10%\n"
     ]
    },
    {
     "data": {
      "text/plain": [
       "['Model_Saved/model2_LogisticRegression.joblib']"
      ]
     },
     "execution_count": 5,
     "metadata": {},
     "output_type": "execute_result"
    }
   ],
   "source": [
    "# Split the data into training and testing sets \n",
    "X_train, X_test, y_train, y_test = train_test_split(X2, y2, test_size=0.2, random_state=0)\n",
    "\n",
    "X_scaler = StandardScaler().fit(X_train)\n",
    "X_train_scaled = X_scaler.transform(X_train)\n",
    "X_test_scaled = X_scaler.transform(X_test)\n",
    "\n",
    "# Save the scaler to the \"Model_Saved\" folder\n",
    "joblib.dump(X_scaler, \"Model_Saved/model2_X_scaler.joblib\")\n",
    "\n",
    "# Fit, train and test the model\n",
    "model2 = classifier.fit(X_train_scaled, y_train)\n",
    "print('Group 2: BE (low dysplasia) vs BE-HDG & AEC')\n",
    "print(f\"Training Data Score: {classifier.score(X_train_scaled, y_train)}\")\n",
    "print(f\"Testing Data Score: {classifier.score(X_test_scaled, y_test)}\")\n",
    "\n",
    "# Make predictions on the test data\n",
    "y_pred = model2.predict(X_test_scaled)\n",
    "\n",
    "# Calculate the accuracy of the model\n",
    "accuracy = accuracy_score(y_test, y_pred)\n",
    "print('Accuracy: {:.2f}%'.format(accuracy * 100))\n",
    "\n",
    "# Save the model to the \"Model_Saved\" folder\n",
    "joblib.dump(model2, \"Model_Saved/model2_LogisticRegression.joblib\")"
   ]
  },
  {
   "cell_type": "code",
   "execution_count": 7,
   "id": "5d0685bb",
   "metadata": {},
   "outputs": [
    {
     "name": "stdout",
     "output_type": "stream",
     "text": [
      "Group 3: BE low vs BE-HDG\n",
      "Training Data Score: 0.9915966386554622\n",
      "Testing Data Score: 0.6333333333333333\n",
      "Accuracy: 63.33%\n"
     ]
    },
    {
     "data": {
      "text/plain": [
       "['Model_Saved/model3_LogisticRegression.joblib']"
      ]
     },
     "execution_count": 7,
     "metadata": {},
     "output_type": "execute_result"
    }
   ],
   "source": [
    "# Split the data into training and testing sets \n",
    "X_train, X_test, y_train, y_test = train_test_split(X3, y3, test_size=0.2, random_state=0)\n",
    "\n",
    "X_scaler = StandardScaler().fit(X_train)\n",
    "X_train_scaled = X_scaler.transform(X_train)\n",
    "X_test_scaled = X_scaler.transform(X_test)\n",
    "\n",
    "# Save the scaler to the \"Model_Saved\" folder\n",
    "joblib.dump(X_scaler, \"Model_Saved/model3_X_scaler.joblib\")\n",
    "\n",
    "# Fit, train and test the model\n",
    "model3 = classifier.fit(X_train_scaled, y_train)\n",
    "print('Group 3: BE low vs BE-HDG')\n",
    "print(f\"Training Data Score: {classifier.score(X_train_scaled, y_train)}\")\n",
    "print(f\"Testing Data Score: {classifier.score(X_test_scaled, y_test)}\")\n",
    "\n",
    "# Make predictions on the test data\n",
    "y_pred = model3.predict(X_test_scaled)\n",
    "\n",
    "# Calculate the accuracy of the model\n",
    "accuracy = accuracy_score(y_test, y_pred)\n",
    "print('Accuracy: {:.2f}%'.format(accuracy * 100))\n",
    "\n",
    "# Save the model to the \"Model_Saved\" folder\n",
    "joblib.dump(model3, \"Model_Saved/model3_LogisticRegression.joblib\")"
   ]
  },
  {
   "cell_type": "code",
   "execution_count": 8,
   "id": "de77ea26",
   "metadata": {},
   "outputs": [
    {
     "name": "stdout",
     "output_type": "stream",
     "text": [
      "Group 4: BE-HDG vs AEC\n",
      "Training Data Score: 1.0\n",
      "Testing Data Score: 0.42105263157894735\n",
      "Accuracy: 42.11%\n"
     ]
    },
    {
     "data": {
      "text/plain": [
       "['Model_Saved/model4_LogisticRegression.joblib']"
      ]
     },
     "execution_count": 8,
     "metadata": {},
     "output_type": "execute_result"
    }
   ],
   "source": [
    "# Split the data into training and testing sets \n",
    "X_train, X_test, y_train, y_test = train_test_split(X4, y4, test_size=0.2, random_state=10)\n",
    "\n",
    "X_scaler = StandardScaler().fit(X_train)\n",
    "X_train_scaled = X_scaler.transform(X_train)\n",
    "X_test_scaled = X_scaler.transform(X_test)\n",
    "\n",
    "# Save the scaler to the \"Model_Saved\" folder\n",
    "joblib.dump(X_scaler, \"Model_Saved/model4_X_scaler.joblib\")\n",
    "\n",
    "# Fit, train and test the model\n",
    "model4 = classifier.fit(X_train_scaled, y_train)\n",
    "print('Group 4: BE-HDG vs AEC')\n",
    "print(f\"Training Data Score: {classifier.score(X_train_scaled, y_train)}\")\n",
    "print(f\"Testing Data Score: {classifier.score(X_test_scaled, y_test)}\")\n",
    "\n",
    "# Make predictions on the test data\n",
    "y_pred = model4.predict(X_test_scaled)\n",
    "\n",
    "# Calculate the accuracy of the model\n",
    "accuracy = accuracy_score(y_test, y_pred)\n",
    "print('Accuracy: {:.2f}%'.format(accuracy * 100))\n",
    "\n",
    "# Save the model to the \"Model_Saved\" folder\n",
    "joblib.dump(model4, \"Model_Saved/model4_LogisticRegression.joblib\")"
   ]
  },
  {
   "cell_type": "code",
   "execution_count": 9,
   "id": "6c2e6473",
   "metadata": {},
   "outputs": [
    {
     "name": "stdout",
     "output_type": "stream",
     "text": [
      "Group 5: Healthy & BE low vs BE-HDG & AEC\n",
      "Training Data Score: 0.9463414634146341\n",
      "Testing Data Score: 0.6538461538461539\n",
      "Accuracy: 65.38%\n"
     ]
    },
    {
     "data": {
      "text/plain": [
       "['Model_Saved/model5_LogisticRegression.joblib']"
      ]
     },
     "execution_count": 9,
     "metadata": {},
     "output_type": "execute_result"
    }
   ],
   "source": [
    "# Split the data into training and testing sets \n",
    "X_train, X_test, y_train, y_test = train_test_split(X5, y5, test_size=0.2, random_state=10)\n",
    "\n",
    "X_scaler = StandardScaler().fit(X_train)\n",
    "X_train_scaled = X_scaler.transform(X_train)\n",
    "X_test_scaled = X_scaler.transform(X_test)\n",
    "\n",
    "# Save the scaler to the \"Model_Saved\" folder\n",
    "joblib.dump(X_scaler, \"Model_Saved/model5_X_scaler.joblib\")\n",
    "\n",
    "# Fit, train and test the model\n",
    "model5 = classifier.fit(X_train_scaled, y_train)\n",
    "print('Group 5: Healthy & BE low vs BE-HDG & AEC')\n",
    "print(f\"Training Data Score: {classifier.score(X_train_scaled, y_train)}\")\n",
    "print(f\"Testing Data Score: {classifier.score(X_test_scaled, y_test)}\")\n",
    "\n",
    "# Make predictions on the test data\n",
    "y_pred = model5.predict(X_test_scaled)\n",
    "\n",
    "# Calculate the accuracy of the model\n",
    "accuracy = accuracy_score(y_test, y_pred)\n",
    "print('Accuracy: {:.2f}%'.format(accuracy * 100))\n",
    "\n",
    "# Save the model to the \"Model_Saved\" folder\n",
    "joblib.dump(model5, \"Model_Saved/model5_LogisticRegression.joblib\")"
   ]
  },
  {
   "cell_type": "code",
   "execution_count": null,
   "id": "7d661ee5",
   "metadata": {},
   "outputs": [],
   "source": []
  }
 ],
 "metadata": {
  "kernelspec": {
   "display_name": "Python [conda env:PythonData] *",
   "language": "python",
   "name": "conda-env-PythonData-py"
  },
  "language_info": {
   "codemirror_mode": {
    "name": "ipython",
    "version": 3
   },
   "file_extension": ".py",
   "mimetype": "text/x-python",
   "name": "python",
   "nbconvert_exporter": "python",
   "pygments_lexer": "ipython3",
   "version": "3.7.7"
  }
 },
 "nbformat": 4,
 "nbformat_minor": 5
}
