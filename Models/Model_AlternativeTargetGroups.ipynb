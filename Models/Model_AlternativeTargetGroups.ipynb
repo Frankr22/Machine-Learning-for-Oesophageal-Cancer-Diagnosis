{
 "cells": [
  {
   "cell_type": "code",
   "execution_count": 1,
   "id": "75108788",
   "metadata": {},
   "outputs": [
    {
     "name": "stderr",
     "output_type": "stream",
     "text": [
      "Matplotlib is building the font cache; this may take a moment.\n"
     ]
    }
   ],
   "source": [
    "# Dependencies & Installs\n",
    "%matplotlib inline\n",
    "import matplotlib.pyplot as plt\n",
    "import pandas as pd"
   ]
  },
  {
   "cell_type": "code",
   "execution_count": 2,
   "id": "d434d68f",
   "metadata": {},
   "outputs": [
    {
     "data": {
      "text/html": [
       "<div>\n",
       "<style scoped>\n",
       "    .dataframe tbody tr th:only-of-type {\n",
       "        vertical-align: middle;\n",
       "    }\n",
       "\n",
       "    .dataframe tbody tr th {\n",
       "        vertical-align: top;\n",
       "    }\n",
       "\n",
       "    .dataframe thead th {\n",
       "        text-align: right;\n",
       "    }\n",
       "</style>\n",
       "<table border=\"1\" class=\"dataframe\">\n",
       "  <thead>\n",
       "    <tr style=\"text-align: right;\">\n",
       "      <th></th>\n",
       "      <th>Unnamed: 0</th>\n",
       "      <th>Patient Group</th>\n",
       "      <th>O95445_AAL</th>\n",
       "      <th>P00450_AAL</th>\n",
       "      <th>P00734_AAL</th>\n",
       "      <th>P00736_AAL</th>\n",
       "      <th>P00738_AAL</th>\n",
       "      <th>P00747_AAL</th>\n",
       "      <th>P00748_AAL</th>\n",
       "      <th>P00751_AAL</th>\n",
       "      <th>...</th>\n",
       "      <th>P02748_LSPIYNLVPVK_Ratio_NPL</th>\n",
       "      <th>P04114_SPAFTDLHLR_Ratio_NPL</th>\n",
       "      <th>P06396_AVEVLPK_Ratio_NPL</th>\n",
       "      <th>P0C0L5_GSFEFPVGDAVSK_Ratio_NPL</th>\n",
       "      <th>P10643_LTPLYELVK_Ratio_NPL</th>\n",
       "      <th>Protein (μg/μL)</th>\n",
       "      <th>Age at Collection</th>\n",
       "      <th>BMI (kg/m2)</th>\n",
       "      <th>Gender_F</th>\n",
       "      <th>Gender_M</th>\n",
       "    </tr>\n",
       "  </thead>\n",
       "  <tbody>\n",
       "    <tr>\n",
       "      <th>0</th>\n",
       "      <td>0</td>\n",
       "      <td>EAC</td>\n",
       "      <td>231901.565681</td>\n",
       "      <td>531675.915634</td>\n",
       "      <td>130229.593177</td>\n",
       "      <td>4.574278e+07</td>\n",
       "      <td>7.427876e+07</td>\n",
       "      <td>1.399114e+06</td>\n",
       "      <td>62766.439036</td>\n",
       "      <td>8.785951e+06</td>\n",
       "      <td>...</td>\n",
       "      <td>3.138630</td>\n",
       "      <td>6.545236</td>\n",
       "      <td>2.455497</td>\n",
       "      <td>1.362097</td>\n",
       "      <td>3.987969</td>\n",
       "      <td>65.497680</td>\n",
       "      <td>63.0</td>\n",
       "      <td>31.46</td>\n",
       "      <td>0</td>\n",
       "      <td>1</td>\n",
       "    </tr>\n",
       "    <tr>\n",
       "      <th>1</th>\n",
       "      <td>1</td>\n",
       "      <td>BE-ID</td>\n",
       "      <td>225768.925899</td>\n",
       "      <td>392680.876091</td>\n",
       "      <td>147433.340040</td>\n",
       "      <td>4.629934e+07</td>\n",
       "      <td>3.240003e+07</td>\n",
       "      <td>1.193564e+06</td>\n",
       "      <td>56995.901230</td>\n",
       "      <td>8.329383e+06</td>\n",
       "      <td>...</td>\n",
       "      <td>3.089863</td>\n",
       "      <td>6.585498</td>\n",
       "      <td>4.543369</td>\n",
       "      <td>0.778761</td>\n",
       "      <td>2.623578</td>\n",
       "      <td>68.052035</td>\n",
       "      <td>69.0</td>\n",
       "      <td>41.40</td>\n",
       "      <td>1</td>\n",
       "      <td>0</td>\n",
       "    </tr>\n",
       "    <tr>\n",
       "      <th>2</th>\n",
       "      <td>2</td>\n",
       "      <td>NSE</td>\n",
       "      <td>317408.869810</td>\n",
       "      <td>624661.826663</td>\n",
       "      <td>166048.185854</td>\n",
       "      <td>5.879864e+07</td>\n",
       "      <td>3.151861e+07</td>\n",
       "      <td>2.006994e+06</td>\n",
       "      <td>66677.865179</td>\n",
       "      <td>8.918962e+06</td>\n",
       "      <td>...</td>\n",
       "      <td>1.858580</td>\n",
       "      <td>11.655492</td>\n",
       "      <td>4.471990</td>\n",
       "      <td>0.821500</td>\n",
       "      <td>2.668353</td>\n",
       "      <td>72.455779</td>\n",
       "      <td>54.0</td>\n",
       "      <td>30.04</td>\n",
       "      <td>1</td>\n",
       "      <td>0</td>\n",
       "    </tr>\n",
       "    <tr>\n",
       "      <th>3</th>\n",
       "      <td>3</td>\n",
       "      <td>BE</td>\n",
       "      <td>196448.722270</td>\n",
       "      <td>383654.430349</td>\n",
       "      <td>81930.599409</td>\n",
       "      <td>4.418331e+07</td>\n",
       "      <td>1.274380e+07</td>\n",
       "      <td>1.121787e+06</td>\n",
       "      <td>47417.392161</td>\n",
       "      <td>6.726070e+06</td>\n",
       "      <td>...</td>\n",
       "      <td>1.179382</td>\n",
       "      <td>6.028578</td>\n",
       "      <td>3.230195</td>\n",
       "      <td>0.731139</td>\n",
       "      <td>1.341246</td>\n",
       "      <td>68.811932</td>\n",
       "      <td>55.0</td>\n",
       "      <td>30.26</td>\n",
       "      <td>0</td>\n",
       "      <td>1</td>\n",
       "    </tr>\n",
       "    <tr>\n",
       "      <th>4</th>\n",
       "      <td>4</td>\n",
       "      <td>BE</td>\n",
       "      <td>513410.263339</td>\n",
       "      <td>665023.074428</td>\n",
       "      <td>168785.312885</td>\n",
       "      <td>8.292568e+07</td>\n",
       "      <td>3.314564e+07</td>\n",
       "      <td>2.811941e+06</td>\n",
       "      <td>96794.597616</td>\n",
       "      <td>1.307532e+07</td>\n",
       "      <td>...</td>\n",
       "      <td>2.745901</td>\n",
       "      <td>10.891096</td>\n",
       "      <td>9.083470</td>\n",
       "      <td>1.226545</td>\n",
       "      <td>4.634702</td>\n",
       "      <td>54.474587</td>\n",
       "      <td>68.0</td>\n",
       "      <td>30.40</td>\n",
       "      <td>0</td>\n",
       "      <td>1</td>\n",
       "    </tr>\n",
       "  </tbody>\n",
       "</table>\n",
       "<p>5 rows × 192 columns</p>\n",
       "</div>"
      ],
      "text/plain": [
       "   Unnamed: 0 Patient Group     O95445_AAL     P00450_AAL     P00734_AAL  \\\n",
       "0           0           EAC  231901.565681  531675.915634  130229.593177   \n",
       "1           1         BE-ID  225768.925899  392680.876091  147433.340040   \n",
       "2           2           NSE  317408.869810  624661.826663  166048.185854   \n",
       "3           3            BE  196448.722270  383654.430349   81930.599409   \n",
       "4           4            BE  513410.263339  665023.074428  168785.312885   \n",
       "\n",
       "     P00736_AAL    P00738_AAL    P00747_AAL    P00748_AAL    P00751_AAL  ...  \\\n",
       "0  4.574278e+07  7.427876e+07  1.399114e+06  62766.439036  8.785951e+06  ...   \n",
       "1  4.629934e+07  3.240003e+07  1.193564e+06  56995.901230  8.329383e+06  ...   \n",
       "2  5.879864e+07  3.151861e+07  2.006994e+06  66677.865179  8.918962e+06  ...   \n",
       "3  4.418331e+07  1.274380e+07  1.121787e+06  47417.392161  6.726070e+06  ...   \n",
       "4  8.292568e+07  3.314564e+07  2.811941e+06  96794.597616  1.307532e+07  ...   \n",
       "\n",
       "   P02748_LSPIYNLVPVK_Ratio_NPL  P04114_SPAFTDLHLR_Ratio_NPL  \\\n",
       "0                      3.138630                     6.545236   \n",
       "1                      3.089863                     6.585498   \n",
       "2                      1.858580                    11.655492   \n",
       "3                      1.179382                     6.028578   \n",
       "4                      2.745901                    10.891096   \n",
       "\n",
       "   P06396_AVEVLPK_Ratio_NPL  P0C0L5_GSFEFPVGDAVSK_Ratio_NPL  \\\n",
       "0                  2.455497                        1.362097   \n",
       "1                  4.543369                        0.778761   \n",
       "2                  4.471990                        0.821500   \n",
       "3                  3.230195                        0.731139   \n",
       "4                  9.083470                        1.226545   \n",
       "\n",
       "   P10643_LTPLYELVK_Ratio_NPL  Protein (μg/μL)  Age at Collection  \\\n",
       "0                    3.987969        65.497680               63.0   \n",
       "1                    2.623578        68.052035               69.0   \n",
       "2                    2.668353        72.455779               54.0   \n",
       "3                    1.341246        68.811932               55.0   \n",
       "4                    4.634702        54.474587               68.0   \n",
       "\n",
       "   BMI (kg/m2)  Gender_F  Gender_M  \n",
       "0        31.46         0         1  \n",
       "1        41.40         1         0  \n",
       "2        30.04         1         0  \n",
       "3        30.26         0         1  \n",
       "4        30.40         0         1  \n",
       "\n",
       "[5 rows x 192 columns]"
      ]
     },
     "execution_count": 2,
     "metadata": {},
     "output_type": "execute_result"
    }
   ],
   "source": [
    "data1 = pd.read_csv('../Data_Cleaned/Joined_df_cleaned.csv')\n",
    "data2 = pd.read_csv('../Data_Cleaned/Joined_df_cleaned.csv')\n",
    "data3 = pd.read_csv('../Data_Cleaned/Joined_df_cleaned.csv')\n",
    "data4 = pd.read_csv('../Data_Cleaned/Joined_df_cleaned.csv')\n",
    "data5 = pd.read_csv('../Data_Cleaned/Joined_df_cleaned.csv')\n",
    "data6 = pd.read_csv('../Data_Cleaned/Joined_df_cleaned.csv')\n",
    "data7 = pd.read_csv('../Data_Cleaned/Joined_df_cleaned.csv')\n",
    "data1.head(5)"
   ]
  },
  {
   "cell_type": "code",
   "execution_count": 3,
   "id": "f599d383",
   "metadata": {},
   "outputs": [
    {
     "data": {
      "text/html": [
       "<div>\n",
       "<style scoped>\n",
       "    .dataframe tbody tr th:only-of-type {\n",
       "        vertical-align: middle;\n",
       "    }\n",
       "\n",
       "    .dataframe tbody tr th {\n",
       "        vertical-align: top;\n",
       "    }\n",
       "\n",
       "    .dataframe thead th {\n",
       "        text-align: right;\n",
       "    }\n",
       "</style>\n",
       "<table border=\"1\" class=\"dataframe\">\n",
       "  <thead>\n",
       "    <tr style=\"text-align: right;\">\n",
       "      <th></th>\n",
       "      <th>Unnamed: 0</th>\n",
       "      <th>Patient Group</th>\n",
       "      <th>O95445_AAL</th>\n",
       "      <th>P00450_AAL</th>\n",
       "      <th>P00734_AAL</th>\n",
       "      <th>P00736_AAL</th>\n",
       "      <th>P00738_AAL</th>\n",
       "      <th>P00747_AAL</th>\n",
       "      <th>P00748_AAL</th>\n",
       "      <th>P00751_AAL</th>\n",
       "      <th>...</th>\n",
       "      <th>P04114_SPAFTDLHLR_Ratio_NPL</th>\n",
       "      <th>P06396_AVEVLPK_Ratio_NPL</th>\n",
       "      <th>P0C0L5_GSFEFPVGDAVSK_Ratio_NPL</th>\n",
       "      <th>P10643_LTPLYELVK_Ratio_NPL</th>\n",
       "      <th>Protein (μg/μL)</th>\n",
       "      <th>Age at Collection</th>\n",
       "      <th>BMI (kg/m2)</th>\n",
       "      <th>Gender_F</th>\n",
       "      <th>Gender_M</th>\n",
       "      <th>target</th>\n",
       "    </tr>\n",
       "  </thead>\n",
       "  <tbody>\n",
       "    <tr>\n",
       "      <th>0</th>\n",
       "      <td>0</td>\n",
       "      <td>EAC</td>\n",
       "      <td>231901.565681</td>\n",
       "      <td>531675.915634</td>\n",
       "      <td>130229.593177</td>\n",
       "      <td>4.574278e+07</td>\n",
       "      <td>7.427876e+07</td>\n",
       "      <td>1.399114e+06</td>\n",
       "      <td>62766.439036</td>\n",
       "      <td>8.785951e+06</td>\n",
       "      <td>...</td>\n",
       "      <td>6.545236</td>\n",
       "      <td>2.455497</td>\n",
       "      <td>1.362097</td>\n",
       "      <td>3.987969</td>\n",
       "      <td>65.497680</td>\n",
       "      <td>63.0</td>\n",
       "      <td>31.46</td>\n",
       "      <td>0</td>\n",
       "      <td>1</td>\n",
       "      <td>1</td>\n",
       "    </tr>\n",
       "    <tr>\n",
       "      <th>1</th>\n",
       "      <td>1</td>\n",
       "      <td>BE-ID</td>\n",
       "      <td>225768.925899</td>\n",
       "      <td>392680.876091</td>\n",
       "      <td>147433.340040</td>\n",
       "      <td>4.629934e+07</td>\n",
       "      <td>3.240003e+07</td>\n",
       "      <td>1.193564e+06</td>\n",
       "      <td>56995.901230</td>\n",
       "      <td>8.329383e+06</td>\n",
       "      <td>...</td>\n",
       "      <td>6.585498</td>\n",
       "      <td>4.543369</td>\n",
       "      <td>0.778761</td>\n",
       "      <td>2.623578</td>\n",
       "      <td>68.052035</td>\n",
       "      <td>69.0</td>\n",
       "      <td>41.40</td>\n",
       "      <td>1</td>\n",
       "      <td>0</td>\n",
       "      <td>0</td>\n",
       "    </tr>\n",
       "    <tr>\n",
       "      <th>2</th>\n",
       "      <td>2</td>\n",
       "      <td>NSE</td>\n",
       "      <td>317408.869810</td>\n",
       "      <td>624661.826663</td>\n",
       "      <td>166048.185854</td>\n",
       "      <td>5.879864e+07</td>\n",
       "      <td>3.151861e+07</td>\n",
       "      <td>2.006994e+06</td>\n",
       "      <td>66677.865179</td>\n",
       "      <td>8.918962e+06</td>\n",
       "      <td>...</td>\n",
       "      <td>11.655492</td>\n",
       "      <td>4.471990</td>\n",
       "      <td>0.821500</td>\n",
       "      <td>2.668353</td>\n",
       "      <td>72.455779</td>\n",
       "      <td>54.0</td>\n",
       "      <td>30.04</td>\n",
       "      <td>1</td>\n",
       "      <td>0</td>\n",
       "      <td>0</td>\n",
       "    </tr>\n",
       "    <tr>\n",
       "      <th>3</th>\n",
       "      <td>3</td>\n",
       "      <td>BE</td>\n",
       "      <td>196448.722270</td>\n",
       "      <td>383654.430349</td>\n",
       "      <td>81930.599409</td>\n",
       "      <td>4.418331e+07</td>\n",
       "      <td>1.274380e+07</td>\n",
       "      <td>1.121787e+06</td>\n",
       "      <td>47417.392161</td>\n",
       "      <td>6.726070e+06</td>\n",
       "      <td>...</td>\n",
       "      <td>6.028578</td>\n",
       "      <td>3.230195</td>\n",
       "      <td>0.731139</td>\n",
       "      <td>1.341246</td>\n",
       "      <td>68.811932</td>\n",
       "      <td>55.0</td>\n",
       "      <td>30.26</td>\n",
       "      <td>0</td>\n",
       "      <td>1</td>\n",
       "      <td>0</td>\n",
       "    </tr>\n",
       "    <tr>\n",
       "      <th>4</th>\n",
       "      <td>4</td>\n",
       "      <td>BE</td>\n",
       "      <td>513410.263339</td>\n",
       "      <td>665023.074428</td>\n",
       "      <td>168785.312885</td>\n",
       "      <td>8.292568e+07</td>\n",
       "      <td>3.314564e+07</td>\n",
       "      <td>2.811941e+06</td>\n",
       "      <td>96794.597616</td>\n",
       "      <td>1.307532e+07</td>\n",
       "      <td>...</td>\n",
       "      <td>10.891096</td>\n",
       "      <td>9.083470</td>\n",
       "      <td>1.226545</td>\n",
       "      <td>4.634702</td>\n",
       "      <td>54.474587</td>\n",
       "      <td>68.0</td>\n",
       "      <td>30.40</td>\n",
       "      <td>0</td>\n",
       "      <td>1</td>\n",
       "      <td>0</td>\n",
       "    </tr>\n",
       "  </tbody>\n",
       "</table>\n",
       "<p>5 rows × 193 columns</p>\n",
       "</div>"
      ],
      "text/plain": [
       "   Unnamed: 0 Patient Group     O95445_AAL     P00450_AAL     P00734_AAL  \\\n",
       "0           0           EAC  231901.565681  531675.915634  130229.593177   \n",
       "1           1         BE-ID  225768.925899  392680.876091  147433.340040   \n",
       "2           2           NSE  317408.869810  624661.826663  166048.185854   \n",
       "3           3            BE  196448.722270  383654.430349   81930.599409   \n",
       "4           4            BE  513410.263339  665023.074428  168785.312885   \n",
       "\n",
       "     P00736_AAL    P00738_AAL    P00747_AAL    P00748_AAL    P00751_AAL  ...  \\\n",
       "0  4.574278e+07  7.427876e+07  1.399114e+06  62766.439036  8.785951e+06  ...   \n",
       "1  4.629934e+07  3.240003e+07  1.193564e+06  56995.901230  8.329383e+06  ...   \n",
       "2  5.879864e+07  3.151861e+07  2.006994e+06  66677.865179  8.918962e+06  ...   \n",
       "3  4.418331e+07  1.274380e+07  1.121787e+06  47417.392161  6.726070e+06  ...   \n",
       "4  8.292568e+07  3.314564e+07  2.811941e+06  96794.597616  1.307532e+07  ...   \n",
       "\n",
       "   P04114_SPAFTDLHLR_Ratio_NPL  P06396_AVEVLPK_Ratio_NPL  \\\n",
       "0                     6.545236                  2.455497   \n",
       "1                     6.585498                  4.543369   \n",
       "2                    11.655492                  4.471990   \n",
       "3                     6.028578                  3.230195   \n",
       "4                    10.891096                  9.083470   \n",
       "\n",
       "   P0C0L5_GSFEFPVGDAVSK_Ratio_NPL  P10643_LTPLYELVK_Ratio_NPL  \\\n",
       "0                        1.362097                    3.987969   \n",
       "1                        0.778761                    2.623578   \n",
       "2                        0.821500                    2.668353   \n",
       "3                        0.731139                    1.341246   \n",
       "4                        1.226545                    4.634702   \n",
       "\n",
       "   Protein (μg/μL)  Age at Collection  BMI (kg/m2)  Gender_F  Gender_M  target  \n",
       "0        65.497680               63.0        31.46         0         1       1  \n",
       "1        68.052035               69.0        41.40         1         0       0  \n",
       "2        72.455779               54.0        30.04         1         0       0  \n",
       "3        68.811932               55.0        30.26         0         1       0  \n",
       "4        54.474587               68.0        30.40         0         1       0  \n",
       "\n",
       "[5 rows x 193 columns]"
      ]
     },
     "execution_count": 3,
     "metadata": {},
     "output_type": "execute_result"
    }
   ],
   "source": [
    "# Reclassified: 1 vs 4 healthy vs cancer\n",
    "data1['target'] = data1['Patient Group'].map({'BE-HGD': 2, 'EAC': 1, 'BE': 2, 'BE-ID': 2, 'BE-LGD': 2, 'NSE': 0})\n",
    "data1 = data1[data1.target<2]\n",
    "\n",
    "# Reclassified: 1 vs 3&4 healthy vs BE-HGD & EAC\n",
    "data2['target'] = data2['Patient Group'].map({'BE-HGD': 1, 'EAC': 1, 'BE': 2, 'BE-ID': 2, 'BE-LGD': 2, 'NSE': 0})\n",
    "data2 = data2[data2.target<2]\n",
    "\n",
    "# Reclassified: 2 vs 3&4 BE low vs BE-HGD & EAC\n",
    "data3['target'] = data3['Patient Group'].map({'BE-HGD': 1, 'EAC': 1, 'BE': 0, 'BE-ID': 0, 'BE-LGD': 0, 'NSE': 2})\n",
    "data3 = data3[data3.target<2]\n",
    "\n",
    "# Reclassified: 2 vs 4 BE low vs EAC\n",
    "data4['target'] = data4['Patient Group'].map({'BE-HGD': 2, 'EAC': 1, 'BE': 0, 'BE-ID': 0, 'BE-LGD': 0, 'NSE': 2})\n",
    "data4 = data4[data4.target<2]\n",
    "\n",
    "# Reclassified: 2 vs 3 BE low vs BE-HGD\n",
    "data5['target'] = data5['Patient Group'].map({'BE-HGD': 1, 'EAC': 2, 'BE': 0, 'BE-ID': 0, 'BE-LGD': 0, 'NSE': 2})\n",
    "data5 = data5[data5.target<2]\n",
    "\n",
    "# Reclassified: 1 vs 2,3,4 healthy vs all\n",
    "data6['target'] = data6['Patient Group'].map({'BE-HGD': 1, 'EAC': 1, 'BE': 1, 'BE-ID': 1, 'BE-LGD': 1, 'NSE': 0})\n",
    "data6 = data6[data6.target<2]\n",
    "\n",
    "# Reclassified: 1,2,3 vs 4 all vs cancer\n",
    "data7['target'] = data7['Patient Group'].map({'BE-HGD': 0, 'EAC': 1, 'BE': 0, 'BE-ID': 0, 'BE-LGD': 0, 'NSE': 0})\n",
    "data7 = data7[data7.target<2]\n",
    "data7.head(5)"
   ]
  },
  {
   "cell_type": "code",
   "execution_count": 12,
   "id": "2f814ddb",
   "metadata": {},
   "outputs": [
    {
     "name": "stdout",
     "output_type": "stream",
     "text": [
      "Data 1 Shape:  (114, 190) (114,)\n",
      "Data 2 Shape:  (154, 190) (154,)\n",
      "Data 3 Shape:  (212, 190) (212,)\n",
      "Data 4 Shape:  (172, 190) (172,)\n",
      "Data 5 Shape:  (153, 190) (153,)\n",
      "Data 6 Shape:  (267, 190) (267,)\n",
      "Data 7 Shape:  (267, 190) (267,)\n"
     ]
    }
   ],
   "source": [
    "# Create X and y\n",
    "\n",
    "X1 = data1.drop(['Unnamed: 0','Patient Group', 'target'], axis=1)\n",
    "y1 = data1['target']\n",
    "\n",
    "X2 = data2.drop(['Unnamed: 0','Patient Group', 'target'], axis=1)\n",
    "y2 = data2['target']\n",
    "\n",
    "X3 = data3.drop(['Unnamed: 0','Patient Group', 'target'], axis=1)\n",
    "y3 = data3['target']\n",
    "\n",
    "X4 = data4.drop(['Unnamed: 0','Patient Group', 'target'], axis=1)\n",
    "y4 = data4['target']\n",
    "\n",
    "X5 = data5.drop(['Unnamed: 0','Patient Group', 'target'], axis=1)\n",
    "y5 = data5['target']\n",
    "\n",
    "X6 = data6.drop(['Unnamed: 0','Patient Group', 'target'], axis=1)\n",
    "y6 = data6['target']\n",
    "\n",
    "X7 = data7.drop(['Unnamed: 0','Patient Group', 'target'], axis=1)\n",
    "y7 = data7['target']\n",
    "\n",
    "print(\"Data 1 Shape: \", X1.shape, y1.shape)\n",
    "print(\"Data 2 Shape: \", X2.shape, y2.shape)\n",
    "print(\"Data 3 Shape: \", X3.shape, y3.shape)\n",
    "print(\"Data 4 Shape: \", X4.shape, y4.shape)\n",
    "print(\"Data 5 Shape: \", X5.shape, y5.shape)\n",
    "print(\"Data 6 Shape: \", X6.shape, y6.shape)\n",
    "print(\"Data 7 Shape: \", X7.shape, y7.shape)"
   ]
  },
  {
   "cell_type": "code",
   "execution_count": 9,
   "id": "0d222052",
   "metadata": {},
   "outputs": [],
   "source": [
    "from sklearn.linear_model import LogisticRegression\n",
    "classifier = LogisticRegression(max_iter=1000)"
   ]
  },
  {
   "cell_type": "code",
   "execution_count": 6,
   "id": "a52416b2",
   "metadata": {},
   "outputs": [],
   "source": [
    "# Split the data into training and testing sets\n",
    "from sklearn.model_selection import train_test_split\n",
    "from sklearn.preprocessing import StandardScaler\n",
    "\n",
    "X_train, X_test, y_train, y_test = train_test_split(X1, y1, test_size=0.2, random_state=0)\n",
    "\n",
    "X_scaler = StandardScaler().fit(X_train)\n",
    "X_train_scaled = X_scaler.transform(X_train)\n",
    "X_test_scaled = X_scaler.transform(X_test)"
   ]
  },
  {
   "cell_type": "code",
   "execution_count": 10,
   "id": "88df89f7",
   "metadata": {},
   "outputs": [
    {
     "name": "stdout",
     "output_type": "stream",
     "text": [
      "Training Data Score: 1.0\n",
      "Testing Data Score: 0.5652173913043478\n"
     ]
    }
   ],
   "source": [
    "# Logistic Regression on unscaled data\n",
    "classifier.fit(X_train, y_train)\n",
    "print(f\"Training Data Score: {classifier.score(X_train, y_train)}\")\n",
    "print(f\"Testing Data Score: {classifier.score(X_test, y_test)}\")"
   ]
  },
  {
   "cell_type": "markdown",
   "id": "fd3b95af",
   "metadata": {},
   "source": [
    "#### Healthy vs EAC ####"
   ]
  },
  {
   "cell_type": "code",
   "execution_count": 11,
   "id": "1458dcc0",
   "metadata": {},
   "outputs": [
    {
     "name": "stdout",
     "output_type": "stream",
     "text": [
      "Training Data Score: 1.0\n",
      "Testing Data Score: 0.6956521739130435\n"
     ]
    }
   ],
   "source": [
    "# Logistic Regression on scaled data\n",
    "classifier.fit(X_train_scaled, y_train)\n",
    "print(f\"Training Data Score: {classifier.score(X_train_scaled, y_train)}\")\n",
    "print(f\"Testing Data Score: {classifier.score(X_test_scaled, y_test)}\")"
   ]
  },
  {
   "cell_type": "markdown",
   "id": "4cf3c0bd",
   "metadata": {},
   "source": [
    "### Primary target group: Healthy vs BE-HGD & EAC ###"
   ]
  },
  {
   "cell_type": "code",
   "execution_count": 13,
   "id": "efbe1e23",
   "metadata": {},
   "outputs": [],
   "source": [
    "# data2 Healthy vs BE-HGD & EAC\n",
    "X_train, X_test, y_train, y_test = train_test_split(X2, y2, test_size=0.2, random_state=0)\n",
    "\n",
    "X_scaler = StandardScaler().fit(X_train)\n",
    "X_train_scaled = X_scaler.transform(X_train)\n",
    "X_test_scaled = X_scaler.transform(X_test)"
   ]
  },
  {
   "cell_type": "code",
   "execution_count": 14,
   "id": "0a302de7",
   "metadata": {},
   "outputs": [
    {
     "name": "stdout",
     "output_type": "stream",
     "text": [
      "Data set 2: Healthy vs BE-HGD & EAC\n",
      "Training Data Score: 0.983739837398374\n",
      "Testing Data Score: 0.7419354838709677\n"
     ]
    }
   ],
   "source": [
    "# Logistic Regression on scaled data Healthy vs BE-HGD & EAC\n",
    "classifier.fit(X_train_scaled, y_train)\n",
    "print('Data set 2: Healthy vs BE-HGD & EAC')\n",
    "print(f\"Training Data Score: {classifier.score(X_train_scaled, y_train)}\")\n",
    "print(f\"Testing Data Score: {classifier.score(X_test_scaled, y_test)}\")"
   ]
  },
  {
   "cell_type": "markdown",
   "id": "85b36c80",
   "metadata": {},
   "source": [
    "#### BE low  vs BE-HGD & EAC ####"
   ]
  },
  {
   "cell_type": "code",
   "execution_count": 15,
   "id": "6885fdeb",
   "metadata": {},
   "outputs": [],
   "source": [
    "# data3 BE low vs BE-HGD & EAC\n",
    "X_train, X_test, y_train, y_test = train_test_split(X3, y3, test_size=0.2, random_state=0)\n",
    "\n",
    "X_scaler = StandardScaler().fit(X_train)\n",
    "X_train_scaled = X_scaler.transform(X_train)\n",
    "X_test_scaled = X_scaler.transform(X_test)"
   ]
  },
  {
   "cell_type": "code",
   "execution_count": 16,
   "id": "8e4321b5",
   "metadata": {},
   "outputs": [
    {
     "name": "stdout",
     "output_type": "stream",
     "text": [
      "Data set 3: BE low vs BE-HGD & EAC\n",
      "Training Data Score: 0.9822485207100592\n",
      "Testing Data Score: 0.627906976744186\n"
     ]
    }
   ],
   "source": [
    "# Logistic Regression on scaled data BE low vs BE-HGD & EAC\n",
    "classifier.fit(X_train_scaled, y_train)\n",
    "print('Data set 3: BE low vs BE-HGD & EAC')\n",
    "print(f\"Training Data Score: {classifier.score(X_train_scaled, y_train)}\")\n",
    "print(f\"Testing Data Score: {classifier.score(X_test_scaled, y_test)}\")"
   ]
  },
  {
   "cell_type": "markdown",
   "id": "e261ebf2",
   "metadata": {},
   "source": [
    "#### BE-Low vs EAC ####"
   ]
  },
  {
   "cell_type": "code",
   "execution_count": 17,
   "id": "fbdf6773",
   "metadata": {},
   "outputs": [],
   "source": [
    "# data 4 BE low vs EAC\n",
    "X_train, X_test, y_train, y_test = train_test_split(X4, y4, test_size=0.2, random_state=0)\n",
    "\n",
    "X_scaler = StandardScaler().fit(X_train)\n",
    "X_train_scaled = X_scaler.transform(X_train)\n",
    "X_test_scaled = X_scaler.transform(X_test)"
   ]
  },
  {
   "cell_type": "code",
   "execution_count": 18,
   "id": "a25550cc",
   "metadata": {},
   "outputs": [
    {
     "name": "stdout",
     "output_type": "stream",
     "text": [
      "Data set 4: BE low vs EAC\n",
      "Training Data Score: 1.0\n",
      "Testing Data Score: 0.7428571428571429\n"
     ]
    }
   ],
   "source": [
    "# Logistic Regression on scaled data BE low vs BE-HGD & EAC\n",
    "classifier.fit(X_train_scaled, y_train)\n",
    "print('Data set 4: BE low vs EAC')\n",
    "print(f\"Training Data Score: {classifier.score(X_train_scaled, y_train)}\")\n",
    "print(f\"Testing Data Score: {classifier.score(X_test_scaled, y_test)}\")"
   ]
  },
  {
   "cell_type": "markdown",
   "id": "5e33ac45",
   "metadata": {},
   "source": [
    "#### BE-Low vs BE-HGD ####"
   ]
  },
  {
   "cell_type": "code",
   "execution_count": 19,
   "id": "2e60c3d2",
   "metadata": {},
   "outputs": [],
   "source": [
    "# data 5 BE low vs BE-HGD\n",
    "X_train, X_test, y_train, y_test = train_test_split(X5, y5, test_size=0.2, random_state=0)\n",
    "\n",
    "X_scaler = StandardScaler().fit(X_train)\n",
    "X_train_scaled = X_scaler.transform(X_train)\n",
    "X_test_scaled = X_scaler.transform(X_test)"
   ]
  },
  {
   "cell_type": "code",
   "execution_count": 20,
   "id": "c08447e4",
   "metadata": {},
   "outputs": [
    {
     "name": "stdout",
     "output_type": "stream",
     "text": [
      "Data set 5: BE low vs BE-HGD\n",
      "Training Data Score: 0.9918032786885246\n",
      "Testing Data Score: 0.7419354838709677\n"
     ]
    }
   ],
   "source": [
    "# Logistic Regression on scaled data BE low vs BE-HGD\n",
    "classifier.fit(X_train_scaled, y_train)\n",
    "print('Data set 5: BE low vs BE-HGD')\n",
    "print(f\"Training Data Score: {classifier.score(X_train_scaled, y_train)}\")\n",
    "print(f\"Testing Data Score: {classifier.score(X_test_scaled, y_test)}\")"
   ]
  },
  {
   "cell_type": "markdown",
   "id": "a390d195",
   "metadata": {},
   "source": [
    "#### Healthy vs BE-low, BE-HGD & EAC ###"
   ]
  },
  {
   "cell_type": "code",
   "execution_count": 21,
   "id": "0c9156a7",
   "metadata": {},
   "outputs": [],
   "source": [
    "# data 6 healthy vs all\n",
    "X_train, X_test, y_train, y_test = train_test_split(X6, y6, test_size=0.2, random_state=0)\n",
    "\n",
    "X_scaler = StandardScaler().fit(X_train)\n",
    "X_train_scaled = X_scaler.transform(X_train)\n",
    "X_test_scaled = X_scaler.transform(X_test)"
   ]
  },
  {
   "cell_type": "code",
   "execution_count": 22,
   "id": "e8d47b06",
   "metadata": {},
   "outputs": [
    {
     "name": "stdout",
     "output_type": "stream",
     "text": [
      "Data set 6: healthy vs all\n",
      "Training Data Score: 0.9624413145539906\n",
      "Testing Data Score: 0.7407407407407407\n"
     ]
    }
   ],
   "source": [
    "# Logistic Regression on scaled data healthy vs all\n",
    "classifier.fit(X_train_scaled, y_train)\n",
    "print('Data set 6: healthy vs all')\n",
    "print(f\"Training Data Score: {classifier.score(X_train_scaled, y_train)}\")\n",
    "print(f\"Testing Data Score: {classifier.score(X_test_scaled, y_test)}\")"
   ]
  },
  {
   "cell_type": "markdown",
   "id": "08932f9a",
   "metadata": {},
   "source": [
    "#### Healthy, BE-low, BE-HGD vs EAC ####"
   ]
  },
  {
   "cell_type": "code",
   "execution_count": 23,
   "id": "cb393781",
   "metadata": {},
   "outputs": [],
   "source": [
    "# data 7 all vs EAC\n",
    "X_train, X_test, y_train, y_test = train_test_split(X7, y7, test_size=0.2, random_state=0)\n",
    "\n",
    "X_scaler = StandardScaler().fit(X_train)\n",
    "X_train_scaled = X_scaler.transform(X_train)\n",
    "X_test_scaled = X_scaler.transform(X_test)"
   ]
  },
  {
   "cell_type": "code",
   "execution_count": 25,
   "id": "cf790ca3",
   "metadata": {},
   "outputs": [
    {
     "name": "stdout",
     "output_type": "stream",
     "text": [
      "Data set 6: all vs EAC\n",
      "Training Data Score: 0.971830985915493\n",
      "Testing Data Score: 0.6481481481481481\n"
     ]
    }
   ],
   "source": [
    "# Logistic Regression on scaled data all vs EAC\n",
    "classifier.fit(X_train_scaled, y_train)\n",
    "print('Data set 6: all vs EAC')\n",
    "print(f\"Training Data Score: {classifier.score(X_train_scaled, y_train)}\")\n",
    "print(f\"Testing Data Score: {classifier.score(X_test_scaled, y_test)}\")"
   ]
  },
  {
   "cell_type": "code",
   "execution_count": null,
   "id": "6ac1f6b9",
   "metadata": {},
   "outputs": [],
   "source": []
  }
 ],
 "metadata": {
  "kernelspec": {
   "display_name": "Python 3 (ipykernel)",
   "language": "python",
   "name": "python3"
  },
  "language_info": {
   "codemirror_mode": {
    "name": "ipython",
    "version": 3
   },
   "file_extension": ".py",
   "mimetype": "text/x-python",
   "name": "python",
   "nbconvert_exporter": "python",
   "pygments_lexer": "ipython3",
   "version": "3.9.12"
  }
 },
 "nbformat": 4,
 "nbformat_minor": 5
}
