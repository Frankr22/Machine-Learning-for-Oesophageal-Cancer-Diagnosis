{
 "cells": [
  {
   "cell_type": "code",
   "execution_count": 2,
   "id": "75108788",
   "metadata": {},
   "outputs": [],
   "source": [
    "# Dependencies & Installs\n",
    "%matplotlib inline\n",
    "import matplotlib.pyplot as plt\n",
    "import pandas as pd"
   ]
  },
  {
   "cell_type": "code",
   "execution_count": 4,
   "id": "d434d68f",
   "metadata": {},
   "outputs": [
    {
     "data": {
      "text/html": [
       "<div>\n",
       "<style scoped>\n",
       "    .dataframe tbody tr th:only-of-type {\n",
       "        vertical-align: middle;\n",
       "    }\n",
       "\n",
       "    .dataframe tbody tr th {\n",
       "        vertical-align: top;\n",
       "    }\n",
       "\n",
       "    .dataframe thead th {\n",
       "        text-align: right;\n",
       "    }\n",
       "</style>\n",
       "<table border=\"1\" class=\"dataframe\">\n",
       "  <thead>\n",
       "    <tr style=\"text-align: right;\">\n",
       "      <th></th>\n",
       "      <th>Patient Group</th>\n",
       "      <th>O95445_AAL</th>\n",
       "      <th>P00450_AAL</th>\n",
       "      <th>P00734_AAL</th>\n",
       "      <th>P00736_AAL</th>\n",
       "      <th>P00738_AAL</th>\n",
       "      <th>P00747_AAL</th>\n",
       "      <th>P00748_AAL</th>\n",
       "      <th>P00751_AAL</th>\n",
       "      <th>P01008_AAL</th>\n",
       "      <th>...</th>\n",
       "      <th>P02748_LSPIYNLVPVK_Ratio_NPL</th>\n",
       "      <th>P04114_SPAFTDLHLR_Ratio_NPL</th>\n",
       "      <th>P06396_AVEVLPK_Ratio_NPL</th>\n",
       "      <th>P0C0L5_GSFEFPVGDAVSK_Ratio_NPL</th>\n",
       "      <th>P10643_LTPLYELVK_Ratio_NPL</th>\n",
       "      <th>Protein (μg/μL)</th>\n",
       "      <th>Age at Collection</th>\n",
       "      <th>BMI (kg/m2)</th>\n",
       "      <th>Gender_F</th>\n",
       "      <th>Gender_M</th>\n",
       "    </tr>\n",
       "  </thead>\n",
       "  <tbody>\n",
       "    <tr>\n",
       "      <th>0</th>\n",
       "      <td>EAC</td>\n",
       "      <td>231901.565681</td>\n",
       "      <td>531675.915634</td>\n",
       "      <td>130229.593177</td>\n",
       "      <td>4.574278e+07</td>\n",
       "      <td>7.427876e+07</td>\n",
       "      <td>1.399114e+06</td>\n",
       "      <td>62766.439036</td>\n",
       "      <td>8.785951e+06</td>\n",
       "      <td>1.865353e+06</td>\n",
       "      <td>...</td>\n",
       "      <td>3.138630</td>\n",
       "      <td>6.545236</td>\n",
       "      <td>2.455497</td>\n",
       "      <td>1.362097</td>\n",
       "      <td>3.987969</td>\n",
       "      <td>65.497680</td>\n",
       "      <td>63.0</td>\n",
       "      <td>31.46</td>\n",
       "      <td>0</td>\n",
       "      <td>1</td>\n",
       "    </tr>\n",
       "    <tr>\n",
       "      <th>1</th>\n",
       "      <td>BE-ID</td>\n",
       "      <td>225768.925899</td>\n",
       "      <td>392680.876091</td>\n",
       "      <td>147433.340040</td>\n",
       "      <td>4.629934e+07</td>\n",
       "      <td>3.240003e+07</td>\n",
       "      <td>1.193564e+06</td>\n",
       "      <td>56995.901230</td>\n",
       "      <td>8.329383e+06</td>\n",
       "      <td>2.990847e+06</td>\n",
       "      <td>...</td>\n",
       "      <td>3.089863</td>\n",
       "      <td>6.585498</td>\n",
       "      <td>4.543369</td>\n",
       "      <td>0.778761</td>\n",
       "      <td>2.623578</td>\n",
       "      <td>68.052035</td>\n",
       "      <td>69.0</td>\n",
       "      <td>41.40</td>\n",
       "      <td>1</td>\n",
       "      <td>0</td>\n",
       "    </tr>\n",
       "    <tr>\n",
       "      <th>2</th>\n",
       "      <td>BE</td>\n",
       "      <td>196448.722270</td>\n",
       "      <td>383654.430349</td>\n",
       "      <td>81930.599409</td>\n",
       "      <td>4.418331e+07</td>\n",
       "      <td>1.274380e+07</td>\n",
       "      <td>1.121787e+06</td>\n",
       "      <td>47417.392161</td>\n",
       "      <td>6.726070e+06</td>\n",
       "      <td>1.723110e+06</td>\n",
       "      <td>...</td>\n",
       "      <td>1.179382</td>\n",
       "      <td>6.028578</td>\n",
       "      <td>3.230195</td>\n",
       "      <td>0.731139</td>\n",
       "      <td>1.341246</td>\n",
       "      <td>68.811932</td>\n",
       "      <td>55.0</td>\n",
       "      <td>30.26</td>\n",
       "      <td>0</td>\n",
       "      <td>1</td>\n",
       "    </tr>\n",
       "    <tr>\n",
       "      <th>3</th>\n",
       "      <td>BE</td>\n",
       "      <td>513410.263339</td>\n",
       "      <td>665023.074428</td>\n",
       "      <td>168785.312885</td>\n",
       "      <td>8.292568e+07</td>\n",
       "      <td>3.314564e+07</td>\n",
       "      <td>2.811941e+06</td>\n",
       "      <td>96794.597616</td>\n",
       "      <td>1.307532e+07</td>\n",
       "      <td>4.179410e+06</td>\n",
       "      <td>...</td>\n",
       "      <td>2.745901</td>\n",
       "      <td>10.891096</td>\n",
       "      <td>9.083470</td>\n",
       "      <td>1.226545</td>\n",
       "      <td>4.634702</td>\n",
       "      <td>54.474587</td>\n",
       "      <td>68.0</td>\n",
       "      <td>30.40</td>\n",
       "      <td>0</td>\n",
       "      <td>1</td>\n",
       "    </tr>\n",
       "    <tr>\n",
       "      <th>4</th>\n",
       "      <td>BE</td>\n",
       "      <td>314617.377724</td>\n",
       "      <td>570847.628329</td>\n",
       "      <td>142913.865712</td>\n",
       "      <td>5.173620e+07</td>\n",
       "      <td>4.496642e+07</td>\n",
       "      <td>1.614046e+06</td>\n",
       "      <td>71673.750881</td>\n",
       "      <td>9.619300e+06</td>\n",
       "      <td>2.441521e+06</td>\n",
       "      <td>...</td>\n",
       "      <td>2.522961</td>\n",
       "      <td>6.306452</td>\n",
       "      <td>3.490794</td>\n",
       "      <td>0.978834</td>\n",
       "      <td>2.575924</td>\n",
       "      <td>70.981760</td>\n",
       "      <td>57.0</td>\n",
       "      <td>23.02</td>\n",
       "      <td>0</td>\n",
       "      <td>1</td>\n",
       "    </tr>\n",
       "  </tbody>\n",
       "</table>\n",
       "<p>5 rows × 191 columns</p>\n",
       "</div>"
      ],
      "text/plain": [
       "  Patient Group     O95445_AAL     P00450_AAL     P00734_AAL    P00736_AAL  \\\n",
       "0           EAC  231901.565681  531675.915634  130229.593177  4.574278e+07   \n",
       "1         BE-ID  225768.925899  392680.876091  147433.340040  4.629934e+07   \n",
       "2            BE  196448.722270  383654.430349   81930.599409  4.418331e+07   \n",
       "3            BE  513410.263339  665023.074428  168785.312885  8.292568e+07   \n",
       "4            BE  314617.377724  570847.628329  142913.865712  5.173620e+07   \n",
       "\n",
       "     P00738_AAL    P00747_AAL    P00748_AAL    P00751_AAL    P01008_AAL  ...  \\\n",
       "0  7.427876e+07  1.399114e+06  62766.439036  8.785951e+06  1.865353e+06  ...   \n",
       "1  3.240003e+07  1.193564e+06  56995.901230  8.329383e+06  2.990847e+06  ...   \n",
       "2  1.274380e+07  1.121787e+06  47417.392161  6.726070e+06  1.723110e+06  ...   \n",
       "3  3.314564e+07  2.811941e+06  96794.597616  1.307532e+07  4.179410e+06  ...   \n",
       "4  4.496642e+07  1.614046e+06  71673.750881  9.619300e+06  2.441521e+06  ...   \n",
       "\n",
       "   P02748_LSPIYNLVPVK_Ratio_NPL  P04114_SPAFTDLHLR_Ratio_NPL  \\\n",
       "0                      3.138630                     6.545236   \n",
       "1                      3.089863                     6.585498   \n",
       "2                      1.179382                     6.028578   \n",
       "3                      2.745901                    10.891096   \n",
       "4                      2.522961                     6.306452   \n",
       "\n",
       "   P06396_AVEVLPK_Ratio_NPL  P0C0L5_GSFEFPVGDAVSK_Ratio_NPL  \\\n",
       "0                  2.455497                        1.362097   \n",
       "1                  4.543369                        0.778761   \n",
       "2                  3.230195                        0.731139   \n",
       "3                  9.083470                        1.226545   \n",
       "4                  3.490794                        0.978834   \n",
       "\n",
       "   P10643_LTPLYELVK_Ratio_NPL  Protein (μg/μL)  Age at Collection  \\\n",
       "0                    3.987969        65.497680               63.0   \n",
       "1                    2.623578        68.052035               69.0   \n",
       "2                    1.341246        68.811932               55.0   \n",
       "3                    4.634702        54.474587               68.0   \n",
       "4                    2.575924        70.981760               57.0   \n",
       "\n",
       "   BMI (kg/m2)  Gender_F  Gender_M  \n",
       "0        31.46         0         1  \n",
       "1        41.40         1         0  \n",
       "2        30.26         0         1  \n",
       "3        30.40         0         1  \n",
       "4        23.02         0         1  \n",
       "\n",
       "[5 rows x 191 columns]"
      ]
     },
     "execution_count": 4,
     "metadata": {},
     "output_type": "execute_result"
    }
   ],
   "source": [
    "data1 = pd.read_csv('../Data_Cleaned/train_test_set.csv')\n",
    "data2 = pd.read_csv('../Data_Cleaned/train_test_set.csv')\n",
    "data3 = pd.read_csv('../Data_Cleaned/train_test_set.csv')\n",
    "data4 = pd.read_csv('../Data_Cleaned/train_test_set.csv')\n",
    "data5 = pd.read_csv('../Data_Cleaned/train_test_set.csv')\n",
    "data6 = pd.read_csv('../Data_Cleaned/train_test_set.csv')\n",
    "data7 = pd.read_csv('../Data_Cleaned/train_test_set.csv')\n",
    "data8 = pd.read_csv('../Data_Cleaned/train_test_set.csv')\n",
    "data1.head(5)"
   ]
  },
  {
   "cell_type": "code",
   "execution_count": 5,
   "id": "f599d383",
   "metadata": {},
   "outputs": [
    {
     "data": {
      "text/html": [
       "<div>\n",
       "<style scoped>\n",
       "    .dataframe tbody tr th:only-of-type {\n",
       "        vertical-align: middle;\n",
       "    }\n",
       "\n",
       "    .dataframe tbody tr th {\n",
       "        vertical-align: top;\n",
       "    }\n",
       "\n",
       "    .dataframe thead th {\n",
       "        text-align: right;\n",
       "    }\n",
       "</style>\n",
       "<table border=\"1\" class=\"dataframe\">\n",
       "  <thead>\n",
       "    <tr style=\"text-align: right;\">\n",
       "      <th></th>\n",
       "      <th>Patient Group</th>\n",
       "      <th>O95445_AAL</th>\n",
       "      <th>P00450_AAL</th>\n",
       "      <th>P00734_AAL</th>\n",
       "      <th>P00736_AAL</th>\n",
       "      <th>P00738_AAL</th>\n",
       "      <th>P00747_AAL</th>\n",
       "      <th>P00748_AAL</th>\n",
       "      <th>P00751_AAL</th>\n",
       "      <th>P01008_AAL</th>\n",
       "      <th>...</th>\n",
       "      <th>P04114_SPAFTDLHLR_Ratio_NPL</th>\n",
       "      <th>P06396_AVEVLPK_Ratio_NPL</th>\n",
       "      <th>P0C0L5_GSFEFPVGDAVSK_Ratio_NPL</th>\n",
       "      <th>P10643_LTPLYELVK_Ratio_NPL</th>\n",
       "      <th>Protein (μg/μL)</th>\n",
       "      <th>Age at Collection</th>\n",
       "      <th>BMI (kg/m2)</th>\n",
       "      <th>Gender_F</th>\n",
       "      <th>Gender_M</th>\n",
       "      <th>target</th>\n",
       "    </tr>\n",
       "  </thead>\n",
       "  <tbody>\n",
       "    <tr>\n",
       "      <th>0</th>\n",
       "      <td>EAC</td>\n",
       "      <td>231901.565681</td>\n",
       "      <td>531675.915634</td>\n",
       "      <td>130229.593177</td>\n",
       "      <td>4.574278e+07</td>\n",
       "      <td>7.427876e+07</td>\n",
       "      <td>1.399114e+06</td>\n",
       "      <td>62766.439036</td>\n",
       "      <td>8.785951e+06</td>\n",
       "      <td>1.865353e+06</td>\n",
       "      <td>...</td>\n",
       "      <td>6.545236</td>\n",
       "      <td>2.455497</td>\n",
       "      <td>1.362097</td>\n",
       "      <td>3.987969</td>\n",
       "      <td>65.497680</td>\n",
       "      <td>63.0</td>\n",
       "      <td>31.46</td>\n",
       "      <td>0</td>\n",
       "      <td>1</td>\n",
       "      <td>1</td>\n",
       "    </tr>\n",
       "    <tr>\n",
       "      <th>1</th>\n",
       "      <td>BE-ID</td>\n",
       "      <td>225768.925899</td>\n",
       "      <td>392680.876091</td>\n",
       "      <td>147433.340040</td>\n",
       "      <td>4.629934e+07</td>\n",
       "      <td>3.240003e+07</td>\n",
       "      <td>1.193564e+06</td>\n",
       "      <td>56995.901230</td>\n",
       "      <td>8.329383e+06</td>\n",
       "      <td>2.990847e+06</td>\n",
       "      <td>...</td>\n",
       "      <td>6.585498</td>\n",
       "      <td>4.543369</td>\n",
       "      <td>0.778761</td>\n",
       "      <td>2.623578</td>\n",
       "      <td>68.052035</td>\n",
       "      <td>69.0</td>\n",
       "      <td>41.40</td>\n",
       "      <td>1</td>\n",
       "      <td>0</td>\n",
       "      <td>0</td>\n",
       "    </tr>\n",
       "    <tr>\n",
       "      <th>2</th>\n",
       "      <td>BE</td>\n",
       "      <td>196448.722270</td>\n",
       "      <td>383654.430349</td>\n",
       "      <td>81930.599409</td>\n",
       "      <td>4.418331e+07</td>\n",
       "      <td>1.274380e+07</td>\n",
       "      <td>1.121787e+06</td>\n",
       "      <td>47417.392161</td>\n",
       "      <td>6.726070e+06</td>\n",
       "      <td>1.723110e+06</td>\n",
       "      <td>...</td>\n",
       "      <td>6.028578</td>\n",
       "      <td>3.230195</td>\n",
       "      <td>0.731139</td>\n",
       "      <td>1.341246</td>\n",
       "      <td>68.811932</td>\n",
       "      <td>55.0</td>\n",
       "      <td>30.26</td>\n",
       "      <td>0</td>\n",
       "      <td>1</td>\n",
       "      <td>0</td>\n",
       "    </tr>\n",
       "    <tr>\n",
       "      <th>3</th>\n",
       "      <td>BE</td>\n",
       "      <td>513410.263339</td>\n",
       "      <td>665023.074428</td>\n",
       "      <td>168785.312885</td>\n",
       "      <td>8.292568e+07</td>\n",
       "      <td>3.314564e+07</td>\n",
       "      <td>2.811941e+06</td>\n",
       "      <td>96794.597616</td>\n",
       "      <td>1.307532e+07</td>\n",
       "      <td>4.179410e+06</td>\n",
       "      <td>...</td>\n",
       "      <td>10.891096</td>\n",
       "      <td>9.083470</td>\n",
       "      <td>1.226545</td>\n",
       "      <td>4.634702</td>\n",
       "      <td>54.474587</td>\n",
       "      <td>68.0</td>\n",
       "      <td>30.40</td>\n",
       "      <td>0</td>\n",
       "      <td>1</td>\n",
       "      <td>0</td>\n",
       "    </tr>\n",
       "    <tr>\n",
       "      <th>4</th>\n",
       "      <td>BE</td>\n",
       "      <td>314617.377724</td>\n",
       "      <td>570847.628329</td>\n",
       "      <td>142913.865712</td>\n",
       "      <td>5.173620e+07</td>\n",
       "      <td>4.496642e+07</td>\n",
       "      <td>1.614046e+06</td>\n",
       "      <td>71673.750881</td>\n",
       "      <td>9.619300e+06</td>\n",
       "      <td>2.441521e+06</td>\n",
       "      <td>...</td>\n",
       "      <td>6.306452</td>\n",
       "      <td>3.490794</td>\n",
       "      <td>0.978834</td>\n",
       "      <td>2.575924</td>\n",
       "      <td>70.981760</td>\n",
       "      <td>57.0</td>\n",
       "      <td>23.02</td>\n",
       "      <td>0</td>\n",
       "      <td>1</td>\n",
       "      <td>0</td>\n",
       "    </tr>\n",
       "  </tbody>\n",
       "</table>\n",
       "<p>5 rows × 192 columns</p>\n",
       "</div>"
      ],
      "text/plain": [
       "  Patient Group     O95445_AAL     P00450_AAL     P00734_AAL    P00736_AAL  \\\n",
       "0           EAC  231901.565681  531675.915634  130229.593177  4.574278e+07   \n",
       "1         BE-ID  225768.925899  392680.876091  147433.340040  4.629934e+07   \n",
       "2            BE  196448.722270  383654.430349   81930.599409  4.418331e+07   \n",
       "3            BE  513410.263339  665023.074428  168785.312885  8.292568e+07   \n",
       "4            BE  314617.377724  570847.628329  142913.865712  5.173620e+07   \n",
       "\n",
       "     P00738_AAL    P00747_AAL    P00748_AAL    P00751_AAL    P01008_AAL  ...  \\\n",
       "0  7.427876e+07  1.399114e+06  62766.439036  8.785951e+06  1.865353e+06  ...   \n",
       "1  3.240003e+07  1.193564e+06  56995.901230  8.329383e+06  2.990847e+06  ...   \n",
       "2  1.274380e+07  1.121787e+06  47417.392161  6.726070e+06  1.723110e+06  ...   \n",
       "3  3.314564e+07  2.811941e+06  96794.597616  1.307532e+07  4.179410e+06  ...   \n",
       "4  4.496642e+07  1.614046e+06  71673.750881  9.619300e+06  2.441521e+06  ...   \n",
       "\n",
       "   P04114_SPAFTDLHLR_Ratio_NPL  P06396_AVEVLPK_Ratio_NPL  \\\n",
       "0                     6.545236                  2.455497   \n",
       "1                     6.585498                  4.543369   \n",
       "2                     6.028578                  3.230195   \n",
       "3                    10.891096                  9.083470   \n",
       "4                     6.306452                  3.490794   \n",
       "\n",
       "   P0C0L5_GSFEFPVGDAVSK_Ratio_NPL  P10643_LTPLYELVK_Ratio_NPL  \\\n",
       "0                        1.362097                    3.987969   \n",
       "1                        0.778761                    2.623578   \n",
       "2                        0.731139                    1.341246   \n",
       "3                        1.226545                    4.634702   \n",
       "4                        0.978834                    2.575924   \n",
       "\n",
       "   Protein (μg/μL)  Age at Collection  BMI (kg/m2)  Gender_F  Gender_M  target  \n",
       "0        65.497680               63.0        31.46         0         1       1  \n",
       "1        68.052035               69.0        41.40         1         0       0  \n",
       "2        68.811932               55.0        30.26         0         1       0  \n",
       "3        54.474587               68.0        30.40         0         1       0  \n",
       "4        70.981760               57.0        23.02         0         1       0  \n",
       "\n",
       "[5 rows x 192 columns]"
      ]
     },
     "execution_count": 5,
     "metadata": {},
     "output_type": "execute_result"
    }
   ],
   "source": [
    "# Reclassified: 1 vs 4 healthy vs cancer\n",
    "data1['target'] = data1['Patient Group'].map({'BE-HGD': 2, 'EAC': 1, 'BE': 2, 'BE-ID': 2, 'BE-LGD': 2, 'NSE': 0})\n",
    "data1 = data1[data1.target<2]\n",
    "\n",
    "# Reclassified: 1 vs 3&4 healthy vs BE-HGD & EAC\n",
    "data2['target'] = data2['Patient Group'].map({'BE-HGD': 1, 'EAC': 1, 'BE': 2, 'BE-ID': 2, 'BE-LGD': 2, 'NSE': 0})\n",
    "data2 = data2[data2.target<2]\n",
    "\n",
    "# Reclassified: 2 vs 3&4 BE low vs BE-HGD & EAC\n",
    "data3['target'] = data3['Patient Group'].map({'BE-HGD': 1, 'EAC': 1, 'BE': 0, 'BE-ID': 0, 'BE-LGD': 0, 'NSE': 2})\n",
    "data3 = data3[data3.target<2]\n",
    "\n",
    "# Reclassified: 2 vs 4 BE low vs EAC\n",
    "data4['target'] = data4['Patient Group'].map({'BE-HGD': 2, 'EAC': 1, 'BE': 0, 'BE-ID': 0, 'BE-LGD': 0, 'NSE': 2})\n",
    "data4 = data4[data4.target<2]\n",
    "\n",
    "# Reclassified: 2 vs 3 BE low vs BE-HGD\n",
    "data5['target'] = data5['Patient Group'].map({'BE-HGD': 1, 'EAC': 2, 'BE': 0, 'BE-ID': 0, 'BE-LGD': 0, 'NSE': 2})\n",
    "data5 = data5[data5.target<2]\n",
    "\n",
    "# Reclassified: 1 vs 2,3,4 healthy vs all\n",
    "data6['target'] = data6['Patient Group'].map({'BE-HGD': 1, 'EAC': 1, 'BE': 1, 'BE-ID': 1, 'BE-LGD': 1, 'NSE': 0})\n",
    "data6 = data6[data6.target<2]\n",
    "\n",
    "# Reclassified: 1,2,3 vs 4 all vs cancer\n",
    "data7['target'] = data7['Patient Group'].map({'BE-HGD': 0, 'EAC': 1, 'BE': 0, 'BE-ID': 0, 'BE-LGD': 0, 'NSE': 0})\n",
    "data7 = data7[data7.target<2]\n",
    "\n",
    "# Reclassified: 1&2 vs 3&4 healthy & BE low vs BE-HGD & EAC\n",
    "data8['target'] = data8['Patient Group'].map({'BE-HGD': 1, 'EAC': 1, 'BE': 0, 'BE-ID': 0, 'BE-LGD': 0, 'NSE': 0})\n",
    "data8 = data8[data8.target<2]\n",
    "data8.head(5)"
   ]
  },
  {
   "cell_type": "code",
   "execution_count": 8,
   "id": "2f814ddb",
   "metadata": {},
   "outputs": [
    {
     "name": "stdout",
     "output_type": "stream",
     "text": [
      "Data 1 Shape:  (108, 190) (108,)\n",
      "Data 2 Shape:  (146, 190) (146,)\n",
      "Data 3 Shape:  (204, 190) (204,)\n",
      "Data 4 Shape:  (166, 190) (166,)\n",
      "Data 5 Shape:  (149, 190) (149,)\n",
      "Data 6 Shape:  (257, 190) (257,)\n",
      "Data 7 Shape:  (257, 190) (257,)\n",
      "Data 8 Shape:  (257, 190) (257,)\n"
     ]
    }
   ],
   "source": [
    "# Create X and y\n",
    "\n",
    "X1 = data1.drop(['Patient Group', 'target'], axis=1)\n",
    "y1 = data1['target']\n",
    "\n",
    "X2 = data2.drop(['Patient Group', 'target'], axis=1)\n",
    "y2 = data2['target']\n",
    "\n",
    "X3 = data3.drop(['Patient Group', 'target'], axis=1)\n",
    "y3 = data3['target']\n",
    "\n",
    "X4 = data4.drop(['Patient Group', 'target'], axis=1)\n",
    "y4 = data4['target']\n",
    "\n",
    "X5 = data5.drop(['Patient Group', 'target'], axis=1)\n",
    "y5 = data5['target']\n",
    "\n",
    "X6 = data6.drop(['Patient Group', 'target'], axis=1)\n",
    "y6 = data6['target']\n",
    "\n",
    "X7 = data7.drop(['Patient Group', 'target'], axis=1)\n",
    "y7 = data7['target']\n",
    "\n",
    "X8 = data8.drop(['Patient Group', 'target'], axis=1)\n",
    "y8 = data8['target']\n",
    "\n",
    "print(\"Data 1 Shape: \", X1.shape, y1.shape)\n",
    "print(\"Data 2 Shape: \", X2.shape, y2.shape)\n",
    "print(\"Data 3 Shape: \", X3.shape, y3.shape)\n",
    "print(\"Data 4 Shape: \", X4.shape, y4.shape)\n",
    "print(\"Data 5 Shape: \", X5.shape, y5.shape)\n",
    "print(\"Data 6 Shape: \", X6.shape, y6.shape)\n",
    "print(\"Data 7 Shape: \", X7.shape, y7.shape)\n",
    "print(\"Data 8 Shape: \", X8.shape, y8.shape)"
   ]
  },
  {
   "cell_type": "code",
   "execution_count": 9,
   "id": "0d222052",
   "metadata": {},
   "outputs": [],
   "source": [
    "from sklearn.linear_model import LogisticRegression\n",
    "classifier = LogisticRegression(max_iter=1000)"
   ]
  },
  {
   "cell_type": "code",
   "execution_count": 10,
   "id": "a52416b2",
   "metadata": {},
   "outputs": [],
   "source": [
    "# Split the data into training and testing sets\n",
    "from sklearn.model_selection import train_test_split\n",
    "from sklearn.preprocessing import StandardScaler\n",
    "\n",
    "X_train, X_test, y_train, y_test = train_test_split(X1, y1, test_size=0.2, random_state=0)\n",
    "\n",
    "X_scaler = StandardScaler().fit(X_train)\n",
    "X_train_scaled = X_scaler.transform(X_train)\n",
    "X_test_scaled = X_scaler.transform(X_test)"
   ]
  },
  {
   "cell_type": "markdown",
   "id": "fd3b95af",
   "metadata": {},
   "source": [
    "#### Healthy vs EAC ####"
   ]
  },
  {
   "cell_type": "code",
   "execution_count": 11,
   "id": "1458dcc0",
   "metadata": {},
   "outputs": [
    {
     "name": "stdout",
     "output_type": "stream",
     "text": [
      "Training Data Score: 1.0\n",
      "Testing Data Score: 0.7727272727272727\n"
     ]
    }
   ],
   "source": [
    "# Logistic Regression on scaled data\n",
    "classifier.fit(X_train_scaled, y_train)\n",
    "print(f\"Training Data Score: {classifier.score(X_train_scaled, y_train)}\")\n",
    "print(f\"Testing Data Score: {classifier.score(X_test_scaled, y_test)}\")"
   ]
  },
  {
   "cell_type": "markdown",
   "id": "4cf3c0bd",
   "metadata": {},
   "source": [
    "### Primary target group: Healthy vs BE-HGD & EAC ###"
   ]
  },
  {
   "cell_type": "code",
   "execution_count": 12,
   "id": "efbe1e23",
   "metadata": {},
   "outputs": [],
   "source": [
    "# data2 Healthy vs BE-HGD & EAC\n",
    "X_train, X_test, y_train, y_test = train_test_split(X2, y2, test_size=0.2, random_state=0)\n",
    "\n",
    "X_scaler = StandardScaler().fit(X_train)\n",
    "X_train_scaled = X_scaler.transform(X_train)\n",
    "X_test_scaled = X_scaler.transform(X_test)"
   ]
  },
  {
   "cell_type": "code",
   "execution_count": 13,
   "id": "0a302de7",
   "metadata": {},
   "outputs": [
    {
     "name": "stdout",
     "output_type": "stream",
     "text": [
      "Data set 2: Healthy vs BE-HGD & EAC\n",
      "Training Data Score: 1.0\n",
      "Testing Data Score: 0.6333333333333333\n"
     ]
    }
   ],
   "source": [
    "# Logistic Regression on scaled data Healthy vs BE-HGD & EAC\n",
    "classifier.fit(X_train_scaled, y_train)\n",
    "print('Data set 2: Healthy vs BE-HGD & EAC')\n",
    "print(f\"Training Data Score: {classifier.score(X_train_scaled, y_train)}\")\n",
    "print(f\"Testing Data Score: {classifier.score(X_test_scaled, y_test)}\")"
   ]
  },
  {
   "cell_type": "markdown",
   "id": "85b36c80",
   "metadata": {},
   "source": [
    "#### BE low  vs BE-HGD & EAC ####"
   ]
  },
  {
   "cell_type": "code",
   "execution_count": 14,
   "id": "6885fdeb",
   "metadata": {},
   "outputs": [],
   "source": [
    "# data3 BE low vs BE-HGD & EAC\n",
    "X_train, X_test, y_train, y_test = train_test_split(X3, y3, test_size=0.2, random_state=0)\n",
    "\n",
    "X_scaler = StandardScaler().fit(X_train)\n",
    "X_train_scaled = X_scaler.transform(X_train)\n",
    "X_test_scaled = X_scaler.transform(X_test)"
   ]
  },
  {
   "cell_type": "code",
   "execution_count": 15,
   "id": "8e4321b5",
   "metadata": {},
   "outputs": [
    {
     "name": "stdout",
     "output_type": "stream",
     "text": [
      "Data set 3: BE low vs BE-HGD & EAC\n",
      "Training Data Score: 0.9815950920245399\n",
      "Testing Data Score: 0.5609756097560976\n"
     ]
    }
   ],
   "source": [
    "# Logistic Regression on scaled data BE low vs BE-HGD & EAC\n",
    "classifier.fit(X_train_scaled, y_train)\n",
    "print('Data set 3: BE low vs BE-HGD & EAC')\n",
    "print(f\"Training Data Score: {classifier.score(X_train_scaled, y_train)}\")\n",
    "print(f\"Testing Data Score: {classifier.score(X_test_scaled, y_test)}\")"
   ]
  },
  {
   "cell_type": "markdown",
   "id": "e261ebf2",
   "metadata": {},
   "source": [
    "#### BE-Low vs EAC ####"
   ]
  },
  {
   "cell_type": "code",
   "execution_count": 16,
   "id": "fbdf6773",
   "metadata": {},
   "outputs": [],
   "source": [
    "# data 4 BE low vs EAC\n",
    "X_train, X_test, y_train, y_test = train_test_split(X4, y4, test_size=0.2, random_state=0)\n",
    "\n",
    "X_scaler = StandardScaler().fit(X_train)\n",
    "X_train_scaled = X_scaler.transform(X_train)\n",
    "X_test_scaled = X_scaler.transform(X_test)"
   ]
  },
  {
   "cell_type": "code",
   "execution_count": 17,
   "id": "a25550cc",
   "metadata": {},
   "outputs": [
    {
     "name": "stdout",
     "output_type": "stream",
     "text": [
      "Data set 4: BE low vs EAC\n",
      "Training Data Score: 1.0\n",
      "Testing Data Score: 0.7058823529411765\n"
     ]
    }
   ],
   "source": [
    "# Logistic Regression on scaled data BE low vs BE-HGD & EAC\n",
    "classifier.fit(X_train_scaled, y_train)\n",
    "print('Data set 4: BE low vs EAC')\n",
    "print(f\"Training Data Score: {classifier.score(X_train_scaled, y_train)}\")\n",
    "print(f\"Testing Data Score: {classifier.score(X_test_scaled, y_test)}\")"
   ]
  },
  {
   "cell_type": "markdown",
   "id": "5e33ac45",
   "metadata": {},
   "source": [
    "#### BE-Low vs BE-HGD ####"
   ]
  },
  {
   "cell_type": "code",
   "execution_count": 18,
   "id": "2e60c3d2",
   "metadata": {},
   "outputs": [],
   "source": [
    "# data 5 BE low vs BE-HGD\n",
    "X_train, X_test, y_train, y_test = train_test_split(X5, y5, test_size=0.2, random_state=0)\n",
    "\n",
    "X_scaler = StandardScaler().fit(X_train)\n",
    "X_train_scaled = X_scaler.transform(X_train)\n",
    "X_test_scaled = X_scaler.transform(X_test)"
   ]
  },
  {
   "cell_type": "code",
   "execution_count": 19,
   "id": "c08447e4",
   "metadata": {},
   "outputs": [
    {
     "name": "stdout",
     "output_type": "stream",
     "text": [
      "Data set 5: BE low vs BE-HGD\n",
      "Training Data Score: 0.9915966386554622\n",
      "Testing Data Score: 0.6333333333333333\n"
     ]
    }
   ],
   "source": [
    "# Logistic Regression on scaled data BE low vs BE-HGD\n",
    "classifier.fit(X_train_scaled, y_train)\n",
    "print('Data set 5: BE low vs BE-HGD')\n",
    "print(f\"Training Data Score: {classifier.score(X_train_scaled, y_train)}\")\n",
    "print(f\"Testing Data Score: {classifier.score(X_test_scaled, y_test)}\")"
   ]
  },
  {
   "cell_type": "markdown",
   "id": "a390d195",
   "metadata": {},
   "source": [
    "#### Healthy vs BE-low, BE-HGD & EAC ###"
   ]
  },
  {
   "cell_type": "code",
   "execution_count": 20,
   "id": "0c9156a7",
   "metadata": {},
   "outputs": [],
   "source": [
    "# data 6 healthy vs all\n",
    "X_train, X_test, y_train, y_test = train_test_split(X6, y6, test_size=0.2, random_state=0)\n",
    "\n",
    "X_scaler = StandardScaler().fit(X_train)\n",
    "X_train_scaled = X_scaler.transform(X_train)\n",
    "X_test_scaled = X_scaler.transform(X_test)"
   ]
  },
  {
   "cell_type": "code",
   "execution_count": 21,
   "id": "e8d47b06",
   "metadata": {},
   "outputs": [
    {
     "name": "stdout",
     "output_type": "stream",
     "text": [
      "Data set 6: healthy vs all\n",
      "Training Data Score: 0.9658536585365853\n",
      "Testing Data Score: 0.7884615384615384\n"
     ]
    }
   ],
   "source": [
    "# Logistic Regression on scaled data healthy vs all\n",
    "classifier.fit(X_train_scaled, y_train)\n",
    "print('Data set 6: healthy vs all')\n",
    "print(f\"Training Data Score: {classifier.score(X_train_scaled, y_train)}\")\n",
    "print(f\"Testing Data Score: {classifier.score(X_test_scaled, y_test)}\")"
   ]
  },
  {
   "cell_type": "markdown",
   "id": "08932f9a",
   "metadata": {},
   "source": [
    "#### Healthy, BE-low, BE-HGD vs EAC ####"
   ]
  },
  {
   "cell_type": "code",
   "execution_count": 26,
   "id": "cb393781",
   "metadata": {},
   "outputs": [],
   "source": [
    "# data 7 all vs EAC\n",
    "X_train, X_test, y_train, y_test = train_test_split(X7, y7, test_size=0.2, random_state=0)\n",
    "\n",
    "X_scaler = StandardScaler().fit(X_train)\n",
    "X_train_scaled = X_scaler.transform(X_train)\n",
    "X_test_scaled = X_scaler.transform(X_test)"
   ]
  },
  {
   "cell_type": "code",
   "execution_count": 27,
   "id": "cf790ca3",
   "metadata": {},
   "outputs": [
    {
     "name": "stdout",
     "output_type": "stream",
     "text": [
      "Data set 7: all vs EAC\n",
      "Training Data Score: 0.9804878048780488\n",
      "Testing Data Score: 0.8076923076923077\n"
     ]
    }
   ],
   "source": [
    "# Logistic Regression on scaled data all vs EAC\n",
    "classifier.fit(X_train_scaled, y_train)\n",
    "print('Data set 7: all vs EAC')\n",
    "print(f\"Training Data Score: {classifier.score(X_train_scaled, y_train)}\")\n",
    "print(f\"Testing Data Score: {classifier.score(X_test_scaled, y_test)}\")"
   ]
  },
  {
   "cell_type": "code",
   "execution_count": 28,
   "id": "ca9f1f77",
   "metadata": {},
   "outputs": [],
   "source": [
    "# data 8 healthy & BE low vs BE high & EAC\n",
    "X_train, X_test, y_train, y_test = train_test_split(X8, y8, test_size=0.2, random_state=0)\n",
    "\n",
    "X_scaler = StandardScaler().fit(X_train)\n",
    "X_train_scaled = X_scaler.transform(X_train)\n",
    "X_test_scaled = X_scaler.transform(X_test)"
   ]
  },
  {
   "cell_type": "code",
   "execution_count": 29,
   "id": "e238d7a1",
   "metadata": {},
   "outputs": [
    {
     "name": "stdout",
     "output_type": "stream",
     "text": [
      "Data set 8: healthy & BE low vs BE high & EAC\n",
      "Training Data Score: 0.9707317073170731\n",
      "Testing Data Score: 0.5769230769230769\n"
     ]
    }
   ],
   "source": [
    "# Logistic Regression on healthy & BE low vs BE high & EAC\n",
    "classifier.fit(X_train_scaled, y_train)\n",
    "print('Data set 8: healthy & BE low vs BE high & EAC')\n",
    "print(f\"Training Data Score: {classifier.score(X_train_scaled, y_train)}\")\n",
    "print(f\"Testing Data Score: {classifier.score(X_test_scaled, y_test)}\")"
   ]
  },
  {
   "cell_type": "markdown",
   "id": "a20c094f",
   "metadata": {},
   "source": [
    "## Create models using the clinical data only ##"
   ]
  },
  {
   "cell_type": "code",
   "execution_count": 31,
   "id": "82c6aac4",
   "metadata": {},
   "outputs": [
    {
     "name": "stdout",
     "output_type": "stream",
     "text": [
      "Clinical data shape:  (146, 4) (146,)\n"
     ]
    }
   ],
   "source": [
    "# Read the clinical.csv file\n",
    "df = pd.read_csv('../Data_Cleaned/clinical_only.csv')\n",
    "\n",
    "# Reclassified: 1 vs 3&4 healthy vs BE-HGD & EAC. Drop BE low\n",
    "df['target'] = df['Patient Group'].map({'BE-HGD': 1, 'EAC': 1, 'BE': 2, 'BE-ID': 2, 'BE-LGD': 2, 'NSE': 0})\n",
    "df = df[df.target<2]\n",
    "\n",
    "X = df.drop(['Patient Group', 'target'], axis=1)\n",
    "y = df['target']\n",
    "\n",
    "print(\"Clinical data shape: \", X.shape, y.shape)"
   ]
  },
  {
   "cell_type": "code",
   "execution_count": 32,
   "id": "f44911ac",
   "metadata": {},
   "outputs": [],
   "source": [
    "import csv"
   ]
  },
  {
   "cell_type": "code",
   "execution_count": 33,
   "id": "a7cee35a",
   "metadata": {},
   "outputs": [
    {
     "name": "stdout",
     "output_type": "stream",
     "text": [
      "Logistic Regression: Healthy vs BE-HGD & EAC\n",
      "Training Data Score: 0.7672413793103449\n",
      "Testing Data Score: 0.7333333333333333\n"
     ]
    }
   ],
   "source": [
    "# Split the data into training and testing sets\n",
    "X_train, X_test, y_train, y_test = train_test_split(X, y, test_size=0.2, random_state=0)\n",
    "\n",
    "# Scale the data\n",
    "X_scaler = StandardScaler().fit(X_train)\n",
    "X_train_scaled = X_scaler.transform(X_train)\n",
    "X_test_scaled = X_scaler.transform(X_test)\n",
    "\n",
    "# Logistic Regression on scaled data Healthy vs BE-HGD & EAC\n",
    "classifier.fit(X_train_scaled, y_train)\n",
    "\n",
    "model_tested = 'Logistic Regression: Healthy vs BE-HGD & EAC'\n",
    "train_score = f\"Training Data Score: {classifier.score(X_train_scaled, y_train)}\"\n",
    "test_score = f\"Testing Data Score: {classifier.score(X_test_scaled, y_test)}\"\n",
    "\n",
    "print('Logistic Regression: Healthy vs BE-HGD & EAC')\n",
    "print(f\"Training Data Score: {classifier.score(X_train_scaled, y_train)}\")\n",
    "print(f\"Testing Data Score: {classifier.score(X_test_scaled, y_test)}\")"
   ]
  },
  {
   "cell_type": "code",
   "execution_count": 34,
   "id": "534322cc",
   "metadata": {},
   "outputs": [],
   "source": [
    " with open('results.csv', 'w', newline='') as file:\n",
    "     writer = csv.writer(file)\n",
    "     \n",
    "     writer.writerow([model_tested])\n",
    "     writer.writerow([train_score])\n",
    "     writer.writerow([test_score])\n",
    "#      writer.writerow([3, \"Brock Lesner\", \"Physics\"])"
   ]
  },
  {
   "cell_type": "code",
   "execution_count": 26,
   "id": "1bcf7e75",
   "metadata": {},
   "outputs": [],
   "source": [
    "from sklearn.metrics import confusion_matrix\n",
    "from sklearn.metrics import classification_report\n",
    "import matplotlib.pyplot as plt"
   ]
  },
  {
   "cell_type": "code",
   "execution_count": 27,
   "id": "c0928a9b",
   "metadata": {},
   "outputs": [],
   "source": [
    "y_true = y_test\n",
    "y_pred = classifier.predict(X_test_scaled)"
   ]
  },
  {
   "cell_type": "code",
   "execution_count": 28,
   "id": "17740c89",
   "metadata": {},
   "outputs": [
    {
     "name": "stdout",
     "output_type": "stream",
     "text": [
      "              precision    recall  f1-score   support\n",
      "\n",
      "           0       0.71      0.62      0.67         8\n",
      "           1       0.88      0.91      0.89        23\n",
      "\n",
      "    accuracy                           0.84        31\n",
      "   macro avg       0.79      0.77      0.78        31\n",
      "weighted avg       0.83      0.84      0.84        31\n",
      "\n"
     ]
    }
   ],
   "source": [
    "print(classification_report(y_true, y_pred))"
   ]
  },
  {
   "cell_type": "code",
   "execution_count": 30,
   "id": "829032a9",
   "metadata": {},
   "outputs": [
    {
     "data": {
      "image/png": "[encoded data removed]",
      "text/plain": [
       "<Figure size 432x288 with 1 Axes>"
      ]
     },
     "metadata": {
      "needs_background": "light"
     },
     "output_type": "display_data"
    }
   ],
   "source": [
    "# Lesson 19_02 exercise 8\n",
    "\n",
    "from sklearn.metrics import roc_curve\n",
    "from sklearn.metrics import auc  \n",
    "\n",
    "y_pred_proba = classifier.predict_proba(X_test_scaled)[:,1]\n",
    "fpr, tpr, thresholds = roc_curve(y_test, y_pred_proba)\n",
    "roc_auc = auc(fpr, tpr)\n",
    "\n",
    "plt.figure()\n",
    "plt.plot(fpr, tpr, color='darkorange',\n",
    "         label=f'ROC curve (area = {roc_auc:0.2f})')\n",
    "plt.plot([0, 1], [0, 1], color='navy', linestyle='--')\n",
    "plt.xlim([0.0, 1.0])\n",
    "plt.ylim([0.0, 1.05])\n",
    "plt.xlabel('False Positive Rate')\n",
    "plt.ylabel('True Positive Rate')\n",
    "plt.title('Receiver operating characteristic example')\n",
    "plt.legend(loc=\"lower right\")\n",
    "plt.show()"
   ]
  },
  {
   "cell_type": "markdown",
   "id": "246f79d0",
   "metadata": {},
   "source": [
    "## Create model with protein_JAC ##"
   ]
  },
  {
   "cell_type": "code",
   "execution_count": 31,
   "id": "187a075d",
   "metadata": {},
   "outputs": [
    {
     "name": "stdout",
     "output_type": "stream",
     "text": [
      "Clinical data shape:  (154, 58) (154,)\n"
     ]
    }
   ],
   "source": [
    "# Read the clinical.csv file\n",
    "df = pd.read_csv('../Data_Cleaned/clinic_JAC.csv')\n",
    "\n",
    "# Reclassified: 1 vs 3&4 healthy vs BE-HGD & EAC\n",
    "df['target'] = df['Patient Group'].map({'BE-HGD': 1, 'EAC': 1, 'BE': 2, 'BE-ID': 2, 'BE-LGD': 2, 'NSE': 0})\n",
    "df = df[df.target<2]\n",
    "\n",
    "X = df.drop(['Unnamed: 0','Patient Group', 'target'], axis=1)\n",
    "y = df['target']\n",
    "\n",
    "print(\"Clinical data shape: \", X.shape, y.shape)"
   ]
  },
  {
   "cell_type": "code",
   "execution_count": 32,
   "id": "f4ff75ef",
   "metadata": {},
   "outputs": [
    {
     "name": "stdout",
     "output_type": "stream",
     "text": [
      "Logistic Regression: Healthy vs BE-HGD & EAC\n",
      "Training Data Score: 0.9186991869918699\n",
      "Testing Data Score: 0.7741935483870968\n"
     ]
    }
   ],
   "source": [
    "X_train, X_test, y_train, y_test = train_test_split(X, y, test_size=0.2, random_state=0)\n",
    "\n",
    "X_scaler = StandardScaler().fit(X_train)\n",
    "X_train_scaled = X_scaler.transform(X_train)\n",
    "X_test_scaled = X_scaler.transform(X_test)\n",
    "\n",
    "# Logistic Regression on scaled data Healthy vs BE-HGD & EAC\n",
    "classifier.fit(X_train_scaled, y_train)\n",
    "print('Logistic Regression: Healthy vs BE-HGD & EAC')\n",
    "print(f\"Training Data Score: {classifier.score(X_train_scaled, y_train)}\")\n",
    "print(f\"Testing Data Score: {classifier.score(X_test_scaled, y_test)}\")"
   ]
  },
  {
   "cell_type": "code",
   "execution_count": 33,
   "id": "37a814ef",
   "metadata": {},
   "outputs": [
    {
     "name": "stdout",
     "output_type": "stream",
     "text": [
      "              precision    recall  f1-score   support\n",
      "\n",
      "           0       0.57      0.50      0.53         8\n",
      "           1       0.83      0.87      0.85        23\n",
      "\n",
      "    accuracy                           0.77        31\n",
      "   macro avg       0.70      0.68      0.69        31\n",
      "weighted avg       0.77      0.77      0.77        31\n",
      "\n"
     ]
    }
   ],
   "source": [
    "y_true = y_test\n",
    "y_pred = classifier.predict(X_test_scaled)\n",
    "print(classification_report(y_true, y_pred))"
   ]
  },
  {
   "cell_type": "code",
   "execution_count": 34,
   "id": "c8473ae3",
   "metadata": {},
   "outputs": [
    {
     "data": {
      "image/png": "[encoded data removed]",
      "text/plain": [
       "<Figure size 432x288 with 1 Axes>"
      ]
     },
     "metadata": {
      "needs_background": "light"
     },
     "output_type": "display_data"
    }
   ],
   "source": [
    "# Plot ROC curve\n",
    "\n",
    "y_pred_proba = classifier.predict_proba(X_test_scaled)[:,1]\n",
    "fpr, tpr, thresholds = roc_curve(y_test, y_pred_proba)\n",
    "roc_auc = auc(fpr, tpr)\n",
    "\n",
    "plt.figure()\n",
    "plt.plot(fpr, tpr, color='darkorange',\n",
    "         label=f'ROC curve (area = {roc_auc:0.2f})')\n",
    "plt.plot([0, 1], [0, 1], color='navy', linestyle='--')\n",
    "plt.xlim([0.0, 1.0])\n",
    "plt.ylim([0.0, 1.05])\n",
    "plt.xlabel('False Positive Rate')\n",
    "plt.ylabel('True Positive Rate')\n",
    "plt.title('Receiver operating characteristic example')\n",
    "plt.legend(loc=\"lower right\")\n",
    "plt.show()"
   ]
  },
  {
   "cell_type": "markdown",
   "id": "ae9b5bfc",
   "metadata": {},
   "source": [
    "## Create model using ratios for JAC protein ##"
   ]
  },
  {
   "cell_type": "code",
   "execution_count": 35,
   "id": "e4296ab4",
   "metadata": {},
   "outputs": [
    {
     "name": "stdout",
     "output_type": "stream",
     "text": [
      "Data shape:  (154, 12) (154,)\n"
     ]
    }
   ],
   "source": [
    "df = pd.read_csv('../Data_Cleaned/clinic_ratios_JAC.csv')\n",
    "\n",
    "# Reclassified: 1 vs 3&4 healthy vs BE-HGD & EAC\n",
    "df['target'] = df['Patient Group'].map({'BE-HGD': 1, 'EAC': 1, 'BE': 2, 'BE-ID': 2, 'BE-LGD': 2, 'NSE': 0})\n",
    "df = df[df.target<2]\n",
    "\n",
    "X = df.drop(['Unnamed: 0','Patient Group', 'target'], axis=1)\n",
    "y = df['target']\n",
    "\n",
    "print(\"Data shape: \", X.shape, y.shape)"
   ]
  },
  {
   "cell_type": "code",
   "execution_count": 36,
   "id": "10c55749",
   "metadata": {},
   "outputs": [
    {
     "name": "stdout",
     "output_type": "stream",
     "text": [
      "Logistic Regression: Healthy vs BE-HGD & EAC\n",
      "Training Data Score: 0.7642276422764228\n",
      "Testing Data Score: 0.8387096774193549\n"
     ]
    }
   ],
   "source": [
    "X_train, X_test, y_train, y_test = train_test_split(X, y, test_size=0.2, random_state=0)\n",
    "\n",
    "X_scaler = StandardScaler().fit(X_train)\n",
    "X_train_scaled = X_scaler.transform(X_train)\n",
    "X_test_scaled = X_scaler.transform(X_test)\n",
    "\n",
    "# Logistic Regression on scaled data Healthy vs BE-HGD & EAC\n",
    "classifier.fit(X_train_scaled, y_train)\n",
    "print('Logistic Regression: Healthy vs BE-HGD & EAC')\n",
    "print(f\"Training Data Score: {classifier.score(X_train_scaled, y_train)}\")\n",
    "print(f\"Testing Data Score: {classifier.score(X_test_scaled, y_test)}\")"
   ]
  },
  {
   "cell_type": "code",
   "execution_count": 37,
   "id": "5e4be1fd",
   "metadata": {},
   "outputs": [
    {
     "name": "stdout",
     "output_type": "stream",
     "text": [
      "              precision    recall  f1-score   support\n",
      "\n",
      "           0       0.71      0.62      0.67         8\n",
      "           1       0.88      0.91      0.89        23\n",
      "\n",
      "    accuracy                           0.84        31\n",
      "   macro avg       0.79      0.77      0.78        31\n",
      "weighted avg       0.83      0.84      0.84        31\n",
      "\n"
     ]
    }
   ],
   "source": [
    "y_true = y_test\n",
    "y_pred = classifier.predict(X_test_scaled)\n",
    "print(classification_report(y_true, y_pred))"
   ]
  },
  {
   "cell_type": "code",
   "execution_count": 38,
   "id": "db7f2db6",
   "metadata": {},
   "outputs": [
    {
     "data": {
      "image/png": "[encoded data removed]",
      "text/plain": [
       "<Figure size 432x288 with 1 Axes>"
      ]
     },
     "metadata": {
      "needs_background": "light"
     },
     "output_type": "display_data"
    }
   ],
   "source": [
    "# Plot ROC curve\n",
    "\n",
    "y_pred_proba = classifier.predict_proba(X_test_scaled)[:,1]\n",
    "fpr, tpr, thresholds = roc_curve(y_test, y_pred_proba)\n",
    "roc_auc = auc(fpr, tpr)\n",
    "\n",
    "plt.figure()\n",
    "plt.plot(fpr, tpr, color='darkorange',\n",
    "         label=f'ROC curve (area = {roc_auc:0.2f})')\n",
    "plt.plot([0, 1], [0, 1], color='navy', linestyle='--')\n",
    "plt.xlim([0.0, 1.0])\n",
    "plt.ylim([0.0, 1.05])\n",
    "plt.xlabel('False Positive Rate')\n",
    "plt.ylabel('True Positive Rate')\n",
    "plt.title('Receiver operating characteristic example')\n",
    "plt.legend(loc=\"lower right\")\n",
    "plt.show()"
   ]
  },
  {
   "cell_type": "markdown",
   "id": "918ea096",
   "metadata": {},
   "source": [
    "## All proteins ##"
   ]
  },
  {
   "cell_type": "code",
   "execution_count": 39,
   "id": "8b6ab0ec",
   "metadata": {},
   "outputs": [
    {
     "name": "stdout",
     "output_type": "stream",
     "text": [
      "Data shape:  (154, 165) (154,)\n"
     ]
    }
   ],
   "source": [
    "df = pd.read_csv('../Data_Cleaned/clinic_proteins.csv')\n",
    "\n",
    "# Reclassified: 1 vs 3&4 healthy vs BE-HGD & EAC\n",
    "df['target'] = df['Patient Group'].map({'BE-HGD': 1, 'EAC': 1, 'BE': 2, 'BE-ID': 2, 'BE-LGD': 2, 'NSE': 0})\n",
    "df = df[df.target<2]\n",
    "\n",
    "X = df.drop(['Unnamed: 0','Patient Group', 'target'], axis=1)\n",
    "y = df['target']\n",
    "\n",
    "print(\"Data shape: \", X.shape, y.shape)"
   ]
  },
  {
   "cell_type": "code",
   "execution_count": 40,
   "id": "24c68d99",
   "metadata": {},
   "outputs": [
    {
     "name": "stdout",
     "output_type": "stream",
     "text": [
      "Logistic Regression: Healthy vs BE-HGD & EAC\n",
      "Training Data Score: 0.975609756097561\n",
      "Testing Data Score: 0.7419354838709677\n"
     ]
    }
   ],
   "source": [
    "X_train, X_test, y_train, y_test = train_test_split(X, y, test_size=0.2, random_state=0)\n",
    "\n",
    "X_scaler = StandardScaler().fit(X_train)\n",
    "X_train_scaled = X_scaler.transform(X_train)\n",
    "X_test_scaled = X_scaler.transform(X_test)\n",
    "\n",
    "# Logistic Regression on scaled data Healthy vs BE-HGD & EAC\n",
    "classifier.fit(X_train_scaled, y_train)\n",
    "print('Logistic Regression: Healthy vs BE-HGD & EAC')\n",
    "print(f\"Training Data Score: {classifier.score(X_train_scaled, y_train)}\")\n",
    "print(f\"Testing Data Score: {classifier.score(X_test_scaled, y_test)}\")"
   ]
  },
  {
   "cell_type": "code",
   "execution_count": 44,
   "id": "366ab225",
   "metadata": {},
   "outputs": [
    {
     "name": "stdout",
     "output_type": "stream",
     "text": [
      "              precision    recall  f1-score   support\n",
      "\n",
      "           0       0.50      0.50      0.50         8\n",
      "           1       0.83      0.83      0.83        23\n",
      "\n",
      "    accuracy                           0.74        31\n",
      "   macro avg       0.66      0.66      0.66        31\n",
      "weighted avg       0.74      0.74      0.74        31\n",
      "\n"
     ]
    }
   ],
   "source": [
    "y_true = y_test\n",
    "y_pred = classifier.predict(X_test_scaled)\n",
    "\n",
    "print(classification_report(y_true, y_pred))"
   ]
  },
  {
   "cell_type": "code",
   "execution_count": 42,
   "id": "ac27e428",
   "metadata": {},
   "outputs": [
    {
     "data": {
      "image/png": "[encoded data removed]",
      "text/plain": [
       "<Figure size 432x288 with 1 Axes>"
      ]
     },
     "metadata": {
      "needs_background": "light"
     },
     "output_type": "display_data"
    }
   ],
   "source": [
    "# Plot ROC curve\n",
    "\n",
    "y_pred_proba = classifier.predict_proba(X_test_scaled)[:,1]\n",
    "fpr, tpr, thresholds = roc_curve(y_test, y_pred_proba)\n",
    "roc_auc = auc(fpr, tpr)\n",
    "\n",
    "plt.figure()\n",
    "plt.plot(fpr, tpr, color='darkorange',\n",
    "         label=f'ROC curve (area = {roc_auc:0.2f})')\n",
    "plt.plot([0, 1], [0, 1], color='navy', linestyle='--')\n",
    "plt.xlim([0.0, 1.0])\n",
    "plt.ylim([0.0, 1.05])\n",
    "plt.xlabel('False Positive Rate')\n",
    "plt.ylabel('True Positive Rate')\n",
    "plt.title('Receiver operating characteristic example')\n",
    "plt.legend(loc=\"lower right\")\n",
    "plt.show()"
   ]
  },
  {
   "cell_type": "markdown",
   "id": "df974fe5",
   "metadata": {},
   "source": [
    "## All protein ratios ##"
   ]
  },
  {
   "cell_type": "code",
   "execution_count": null,
   "id": "bd9c8b84",
   "metadata": {},
   "outputs": [],
   "source": [
    "# missing one csv - check Data_Subsets notebook in ETL folder to create csv\n",
    "\n",
    "df = pd.read_csv('../Data_Cleaned/<clinic_ratios>.csv')\n",
    "\n",
    "# Reclassified: 1 vs 3&4 healthy vs BE-HGD & EAC\n",
    "df['target'] = df['Patient Group'].map({'BE-HGD': 1, 'EAC': 1, 'BE': 2, 'BE-ID': 2, 'BE-LGD': 2, 'NSE': 0})\n",
    "df = df[df.target<2]\n",
    "\n",
    "X = df.drop(['Unnamed: 0','Patient Group', 'target'], axis=1)\n",
    "y = df['target']\n",
    "\n",
    "print(\"Data shape: \", X.shape, y.shape)"
   ]
  }
 ],
 "metadata": {
  "kernelspec": {
   "display_name": "Python 3 (ipykernel)",
   "language": "python",
   "name": "python3"
  },
  "language_info": {
   "codemirror_mode": {
    "name": "ipython",
    "version": 3
   },
   "file_extension": ".py",
   "mimetype": "text/x-python",
   "name": "python",
   "nbconvert_exporter": "python",
   "pygments_lexer": "ipython3",
   "version": "3.9.12"
  }
 },
 "nbformat": 4,
 "nbformat_minor": 5
}
