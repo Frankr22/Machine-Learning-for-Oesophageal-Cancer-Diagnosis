{
 "cells": [
  {
   "cell_type": "code",
   "execution_count": 2,
   "id": "7e90299f",
   "metadata": {},
   "outputs": [],
   "source": [
    "# Dependencies & Installs\n",
    "%matplotlib inline\n",
    "import matplotlib.pyplot as plt\n",
    "import pandas as pd\n",
    "import csv\n",
    "from sklearn.preprocessing import StandardScaler\n",
    "from sklearn.linear_model import LogisticRegression\n",
    "from sklearn.model_selection import train_test_split\n",
    "from sklearn.metrics import accuracy_score\n",
    "from sklearn.tree import DecisionTreeClassifier\n",
    "from sklearn.ensemble import RandomForestClassifier\n",
    "from sklearn.svm import SVC\n",
    "from sklearn.model_selection import RandomizedSearchCV\n",
    "from sklearn.model_selection import GridSearchCV\n",
    "import numpy as np\n",
    "import warnings\n",
    "import joblib"
   ]
  },
  {
   "cell_type": "code",
   "execution_count": 3,
   "id": "1ec9ac10",
   "metadata": {},
   "outputs": [],
   "source": [
    "data = pd.read_csv('../Data_Cleaned/clinic_ratios.csv')\n",
    "\n",
    "# Reclassified: 1 vs 2,3,4 healthy vs all\n",
    "df1= data\n",
    "df1['target'] = df1['Patient Group'].map({'BE-HGD': 1, 'EAC': 1, 'BE': 1, 'BE-ID': 1, 'BE-LGD': 1, 'NSE': 0})\n",
    "df1 = df1[df1.target<2]\n",
    "\n",
    "# Reclassified: 2 vs 3&4 BE low vs BE-HGD & EAC\n",
    "df2 = data\n",
    "df2['target'] = df2['Patient Group'].map({'BE-HGD': 1, 'EAC': 1, 'BE': 0, 'BE-ID': 0, 'BE-LGD': 0, 'NSE': 2})\n",
    "df2 = df2[df2.target<2]\n",
    "\n",
    "# Reclassified: 2 vs 3 BE low vs BE-HGD\n",
    "df3 = data\n",
    "df3['target'] = df3['Patient Group'].map({'BE-HGD': 1, 'EAC': 2, 'BE': 0, 'BE-ID': 0, 'BE-LGD': 0, 'NSE': 2})\n",
    "df3 = df3[df3.target<2]\n",
    "\n",
    "# Reclassified: 3 vs 4 BE-HGD vs AEC\n",
    "df4 = data\n",
    "df4['target'] = df4['Patient Group'].map({'BE-HGD': 0, 'EAC': 1, 'BE': 2, 'BE-ID': 2, 'BE-LGD': 2, 'NSE': 2})\n",
    "df4 = df4[df4.target<2]\n",
    "\n",
    "# Reclassified: 1&2 vs 3&4 \n",
    "df5 = data\n",
    "df5['target'] = df5['Patient Group'].map({'BE-HGD': 1, 'EAC': 1, 'BE': 0, 'BE-ID': 0, 'BE-LGD': 0, 'NSE': 0})\n",
    "df5 = df5[df5.target<2]"
   ]
  },
  {
   "cell_type": "code",
   "execution_count": 4,
   "id": "e470f839",
   "metadata": {},
   "outputs": [
    {
     "name": "stdout",
     "output_type": "stream",
     "text": [
      "Data 1 Shape:  (257, 28) (257,)\n",
      "Data 2 Shape:  (204, 28) (204,)\n",
      "Data 3 Shape:  (149, 28) (149,)\n",
      "Data 4 Shape:  (93, 28) (93,)\n",
      "Data 5 Shape:  (257, 28) (257,)\n"
     ]
    }
   ],
   "source": [
    "# Create X and y\n",
    "\n",
    "X1 = df1.drop(['Patient Group', 'target'], axis=1)\n",
    "y1 = df1['target']\n",
    "\n",
    "X2 = df2.drop(['Patient Group', 'target'], axis=1)\n",
    "y2 = df2['target']\n",
    "\n",
    "X3 = df3.drop(['Patient Group', 'target'], axis=1)\n",
    "y3 = df3['target']\n",
    "\n",
    "X4 = df4.drop(['Patient Group', 'target'], axis=1)\n",
    "y4 = df4['target']\n",
    "\n",
    "X5 = df5.drop(['Patient Group', 'target'], axis=1)\n",
    "y5 = df5['target']\n",
    "\n",
    "print(\"Data 1 Shape: \", X1.shape, y1.shape)\n",
    "print(\"Data 2 Shape: \", X2.shape, y2.shape)\n",
    "print(\"Data 3 Shape: \", X3.shape, y3.shape)\n",
    "print(\"Data 4 Shape: \", X4.shape, y4.shape)\n",
    "print(\"Data 5 Shape: \", X5.shape, y5.shape)"
   ]
  },
  {
   "cell_type": "code",
   "execution_count": 5,
   "id": "6788e38f",
   "metadata": {},
   "outputs": [],
   "source": [
    "# Initiate the classifier model\n",
    "classifier = LogisticRegression(max_iter=1000)"
   ]
  },
  {
   "cell_type": "code",
   "execution_count": 6,
   "id": "95043dff",
   "metadata": {},
   "outputs": [
    {
     "name": "stdout",
     "output_type": "stream",
     "text": [
      "Group 1: Healthy vs the rest\n",
      "Training Data Score: 0.8439024390243902\n",
      "Testing Data Score: 0.7884615384615384\n",
      "Accuracy: 78.85%\n"
     ]
    },
    {
     "data": {
      "text/plain": [
       "['Model_Saved/model16_LogisticRegression.joblib']"
      ]
     },
     "execution_count": 6,
     "metadata": {},
     "output_type": "execute_result"
    }
   ],
   "source": [
    "# Split the data into training and testing sets \n",
    "X_train, X_test, y_train, y_test = train_test_split(X1, y1, test_size=0.2, random_state=0)\n",
    "\n",
    "X_scaler = StandardScaler().fit(X_train)\n",
    "X_train_scaled = X_scaler.transform(X_train)\n",
    "X_test_scaled = X_scaler.transform(X_test)\n",
    "\n",
    "# Fit, train and test the model\n",
    "model16 = classifier.fit(X_train_scaled, y_train)\n",
    "print('Group 1: Healthy vs the rest')\n",
    "print(f\"Training Data Score: {classifier.score(X_train_scaled, y_train)}\")\n",
    "print(f\"Testing Data Score: {classifier.score(X_test_scaled, y_test)}\")\n",
    "\n",
    "# Make predictions on the test data\n",
    "y_pred = model16.predict(X_test_scaled)\n",
    "\n",
    "# Calculate the accuracy of the model\n",
    "accuracy = accuracy_score(y_test, y_pred)\n",
    "print('Accuracy: {:.2f}%'.format(accuracy * 100))\n",
    "\n",
    "# Save the model to the \"Model_Saved\" folder\n",
    "joblib.dump(model16, \"Model_Saved/model16_LogisticRegression.joblib\")"
   ]
  },
  {
   "cell_type": "code",
   "execution_count": 7,
   "id": "13b6037e",
   "metadata": {},
   "outputs": [
    {
     "name": "stdout",
     "output_type": "stream",
     "text": [
      "0.7884615384615384\n"
     ]
    }
   ],
   "source": [
    "loaded_model = joblib.load(\"Model_Saved/model16_LogisticRegression.joblib\")\n",
    "result = loaded_model.score(X_test_scaled, y_test)\n",
    "print(result)"
   ]
  },
  {
   "cell_type": "code",
   "execution_count": 8,
   "id": "0798be3f",
   "metadata": {},
   "outputs": [
    {
     "name": "stdout",
     "output_type": "stream",
     "text": [
      "Group 2: BE (low dysplasia) vs BE-HDG & AEC\n",
      "Training Data Score: 0.7055214723926381\n",
      "Testing Data Score: 0.5609756097560976\n",
      "Accuracy: 56.10%\n"
     ]
    },
    {
     "data": {
      "text/plain": [
       "['Model_Saved/model17_LogisticRegression.joblib']"
      ]
     },
     "execution_count": 8,
     "metadata": {},
     "output_type": "execute_result"
    }
   ],
   "source": [
    "# Split the data into training and testing sets \n",
    "X_train, X_test, y_train, y_test = train_test_split(X2, y2, test_size=0.2, random_state=0)\n",
    "\n",
    "X_scaler = StandardScaler().fit(X_train)\n",
    "X_train_scaled = X_scaler.transform(X_train)\n",
    "X_test_scaled = X_scaler.transform(X_test)\n",
    "\n",
    "# Fit, train and test the model\n",
    "model17 = classifier.fit(X_train_scaled, y_train)\n",
    "print('Group 2: BE (low dysplasia) vs BE-HDG & AEC')\n",
    "print(f\"Training Data Score: {classifier.score(X_train_scaled, y_train)}\")\n",
    "print(f\"Testing Data Score: {classifier.score(X_test_scaled, y_test)}\")\n",
    "\n",
    "# Make predictions on the test data\n",
    "y_pred = model17.predict(X_test_scaled)\n",
    "\n",
    "# Calculate the accuracy of the model\n",
    "accuracy = accuracy_score(y_test, y_pred)\n",
    "print('Accuracy: {:.2f}%'.format(accuracy * 100))\n",
    "\n",
    "# Save the model to the \"Model_Saved\" folder\n",
    "joblib.dump(model17, \"Model_Saved/model17_LogisticRegression.joblib\")"
   ]
  },
  {
   "cell_type": "code",
   "execution_count": 9,
   "id": "652ad838",
   "metadata": {},
   "outputs": [
    {
     "name": "stdout",
     "output_type": "stream",
     "text": [
      "Group 3: BE low vs BE-HDG\n",
      "Training Data Score: 0.7815126050420168\n",
      "Testing Data Score: 0.6\n",
      "Accuracy: 60.00%\n"
     ]
    },
    {
     "data": {
      "text/plain": [
       "['Model_Saved/model18_LogisticRegression.joblib']"
      ]
     },
     "execution_count": 9,
     "metadata": {},
     "output_type": "execute_result"
    }
   ],
   "source": [
    "# Split the data into training and testing sets \n",
    "X_train, X_test, y_train, y_test = train_test_split(X3, y3, test_size=0.2, random_state=0)\n",
    "\n",
    "X_scaler = StandardScaler().fit(X_train)\n",
    "X_train_scaled = X_scaler.transform(X_train)\n",
    "X_test_scaled = X_scaler.transform(X_test)\n",
    "\n",
    "# Fit, train and test the model\n",
    "model18 = classifier.fit(X_train_scaled, y_train)\n",
    "print('Group 3: BE low vs BE-HDG')\n",
    "print(f\"Training Data Score: {classifier.score(X_train_scaled, y_train)}\")\n",
    "print(f\"Testing Data Score: {classifier.score(X_test_scaled, y_test)}\")\n",
    "\n",
    "# Make predictions on the test data\n",
    "y_pred = model18.predict(X_test_scaled)\n",
    "\n",
    "# Calculate the accuracy of the model\n",
    "accuracy = accuracy_score(y_test, y_pred)\n",
    "print('Accuracy: {:.2f}%'.format(accuracy * 100))\n",
    "\n",
    "# Save the model to the \"Model_Saved\" folder\n",
    "joblib.dump(model18, \"Model_Saved/model18_LogisticRegression.joblib\")"
   ]
  },
  {
   "cell_type": "code",
   "execution_count": 10,
   "id": "9101d177",
   "metadata": {},
   "outputs": [
    {
     "name": "stdout",
     "output_type": "stream",
     "text": [
      "Group 4: BE-HDG vs AEC\n",
      "Training Data Score: 0.6891891891891891\n",
      "Testing Data Score: 0.47368421052631576\n",
      "Accuracy: 47.37%\n"
     ]
    },
    {
     "data": {
      "text/plain": [
       "['Model_Saved/model19_LogisticRegression.joblib']"
      ]
     },
     "execution_count": 10,
     "metadata": {},
     "output_type": "execute_result"
    }
   ],
   "source": [
    "# Split the data into training and testing sets \n",
    "X_train, X_test, y_train, y_test = train_test_split(X4, y4, test_size=0.2, random_state=10)\n",
    "\n",
    "X_scaler = StandardScaler().fit(X_train)\n",
    "X_train_scaled = X_scaler.transform(X_train)\n",
    "X_test_scaled = X_scaler.transform(X_test)\n",
    "\n",
    "# Fit, train and test the model\n",
    "model19 = classifier.fit(X_train_scaled, y_train)\n",
    "print('Group 4: BE-HDG vs AEC')\n",
    "print(f\"Training Data Score: {classifier.score(X_train_scaled, y_train)}\")\n",
    "print(f\"Testing Data Score: {classifier.score(X_test_scaled, y_test)}\")\n",
    "\n",
    "# Make predictions on the test data\n",
    "y_pred = model19.predict(X_test_scaled)\n",
    "\n",
    "# Calculate the accuracy of the model\n",
    "accuracy = accuracy_score(y_test, y_pred)\n",
    "print('Accuracy: {:.2f}%'.format(accuracy * 100))\n",
    "\n",
    "# Save the model to the \"Model_Saved\" folder\n",
    "joblib.dump(model19, \"Model_Saved/model19_LogisticRegression.joblib\")"
   ]
  },
  {
   "cell_type": "code",
   "execution_count": 11,
   "id": "742e115c",
   "metadata": {},
   "outputs": [
    {
     "name": "stdout",
     "output_type": "stream",
     "text": [
      "Group 5: Healthy & BE low vs BE-HDG & AEC\n",
      "Training Data Score: 0.697560975609756\n",
      "Testing Data Score: 0.6923076923076923\n",
      "Accuracy: 69.23%\n"
     ]
    },
    {
     "data": {
      "text/plain": [
       "['Model_Saved/model20_LogisticRegression.joblib']"
      ]
     },
     "execution_count": 11,
     "metadata": {},
     "output_type": "execute_result"
    }
   ],
   "source": [
    "# Split the data into training and testing sets \n",
    "X_train, X_test, y_train, y_test = train_test_split(X5, y5, test_size=0.2, random_state=10)\n",
    "\n",
    "X_scaler = StandardScaler().fit(X_train)\n",
    "X_train_scaled = X_scaler.transform(X_train)\n",
    "X_test_scaled = X_scaler.transform(X_test)\n",
    "\n",
    "# Fit, train and test the model\n",
    "model20 = classifier.fit(X_train_scaled, y_train)\n",
    "print('Group 5: Healthy & BE low vs BE-HDG & AEC')\n",
    "print(f\"Training Data Score: {classifier.score(X_train_scaled, y_train)}\")\n",
    "print(f\"Testing Data Score: {classifier.score(X_test_scaled, y_test)}\")\n",
    "\n",
    "# Make predictions on the test data\n",
    "y_pred = model20.predict(X_test_scaled)\n",
    "\n",
    "# Calculate the accuracy of the model\n",
    "accuracy = accuracy_score(y_test, y_pred)\n",
    "print('Accuracy: {:.2f}%'.format(accuracy * 100))\n",
    "\n",
    "# Save the model to the \"Model_Saved\" folder\n",
    "joblib.dump(model20, \"Model_Saved/model20_LogisticRegression.joblib\")"
   ]
  },
  {
   "cell_type": "code",
   "execution_count": 12,
   "id": "e5adf9ed",
   "metadata": {},
   "outputs": [],
   "source": [
    "# with open('results.csv', 'w', newline='') as file:\n",
    "#      writer = csv.writer(file)\n",
    "     \n",
    "#      writer.writerow([model_tested])\n",
    "#      writer.writerow([train_score])\n",
    "#      writer.writerow([test_score])"
   ]
  }
 ],
 "metadata": {
  "kernelspec": {
   "display_name": "Python [conda env:PythonData] *",
   "language": "python",
   "name": "conda-env-PythonData-py"
  },
  "language_info": {
   "codemirror_mode": {
    "name": "ipython",
    "version": 3
   },
   "file_extension": ".py",
   "mimetype": "text/x-python",
   "name": "python",
   "nbconvert_exporter": "python",
   "pygments_lexer": "ipython3",
   "version": "3.7.7"
  }
 },
 "nbformat": 4,
 "nbformat_minor": 5
}
