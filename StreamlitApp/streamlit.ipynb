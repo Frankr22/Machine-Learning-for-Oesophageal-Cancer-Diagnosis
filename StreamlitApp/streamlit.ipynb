{
 "cells": [
  {
   "cell_type": "code",
   "execution_count": 1,
   "metadata": {},
   "outputs": [],
   "source": [
    "import pandas as pd\n",
    "from joblib import load"
   ]
  },
  {
   "cell_type": "code",
   "execution_count": 2,
   "metadata": {},
   "outputs": [],
   "source": [
    "# Load the trained model and scaler\n",
    "model6 = load('../Models/Model_Saved/model6_LogisticRegression.joblib')\n",
    "model6_X_scaler = load('../Models/Model_Saved/model6_X_scaler.joblib')"
   ]
  },
  {
   "cell_type": "code",
   "execution_count": 3,
   "metadata": {},
   "outputs": [
    {
     "data": {
      "text/html": [
       "<div>\n",
       "<style scoped>\n",
       "    .dataframe tbody tr th:only-of-type {\n",
       "        vertical-align: middle;\n",
       "    }\n",
       "\n",
       "    .dataframe tbody tr th {\n",
       "        vertical-align: top;\n",
       "    }\n",
       "\n",
       "    .dataframe thead th {\n",
       "        text-align: right;\n",
       "    }\n",
       "</style>\n",
       "<table border=\"1\" class=\"dataframe\">\n",
       "  <thead>\n",
       "    <tr style=\"text-align: right;\">\n",
       "      <th></th>\n",
       "      <th>Age at Collection</th>\n",
       "      <th>BMI (kg/m2)</th>\n",
       "      <th>Gender_F</th>\n",
       "      <th>Gender_M</th>\n",
       "    </tr>\n",
       "  </thead>\n",
       "  <tbody>\n",
       "    <tr>\n",
       "      <th>0</th>\n",
       "      <td>18</td>\n",
       "      <td>22</td>\n",
       "      <td>1</td>\n",
       "      <td>0</td>\n",
       "    </tr>\n",
       "  </tbody>\n",
       "</table>\n",
       "</div>"
      ],
      "text/plain": [
       "   Age at Collection  BMI (kg/m2)  Gender_F  Gender_M\n",
       "0                 18           22         1         0"
      ]
     },
     "execution_count": 3,
     "metadata": {},
     "output_type": "execute_result"
    }
   ],
   "source": [
    "# Get user input\n",
    "age = 18\n",
    "sex = \"female\"\n",
    "bmi = 22\n",
    "diagnosed = \"No\"\n",
    "\n",
    "gender_f = 1 if sex == \"female\" else 0\n",
    "gender_m = 1 if sex == \"male\" else 0\n",
    "\n",
    "# Create a DataFrame with the user input\n",
    "user_input_df = pd.DataFrame({\n",
    "    \"Age at Collection\": [age],\n",
    "    \"BMI (kg/m2)\": [bmi],\n",
    "    \"Gender_F\": [gender_f],\n",
    "    \"Gender_M\": [gender_m]\n",
    "})\n",
    "\n",
    "user_input_df.head()"
   ]
  },
  {
   "cell_type": "code",
   "execution_count": 4,
   "metadata": {},
   "outputs": [
    {
     "data": {
      "text/plain": [
       "array([[-3.5423416 , -0.98765147,  1.76068169, -1.76068169]])"
      ]
     },
     "execution_count": 4,
     "metadata": {},
     "output_type": "execute_result"
    }
   ],
   "source": [
    "# Scale the user input data\n",
    "user_input_scaled = model6_X_scaler.transform(user_input_df)\n",
    "user_input_scaled"
   ]
  },
  {
   "cell_type": "code",
   "execution_count": 5,
   "metadata": {},
   "outputs": [],
   "source": [
    "# Make a prediction using the model\n",
    "prediction = model6.predict(user_input_scaled)\n",
    "prediction_proba = model6.predict_proba(user_input_scaled)"
   ]
  },
  {
   "cell_type": "code",
   "execution_count": 6,
   "metadata": {},
   "outputs": [
    {
     "name": "stdout",
     "output_type": "stream",
     "text": [
      "Based on the information you provided and our machine learning model's understanding of the relationship between various factors and esophageal cancer risk, it is estimated that you have a low risk of developing esophageal cancer. The model predicts a 76.81% probability of you being in the low-risk group.\n",
      "\n",
      "Please note that this tool is not a substitute for professional medical advice, diagnosis, or treatment. The results should be considered as an estimate and should not be relied upon for decision-making regarding your health. Always consult with a healthcare professional for personalized medical advice.\n"
     ]
    }
   ],
   "source": [
    "# Display the prediction\n",
    "if prediction[0] == 1:\n",
    "    print(f\"Based on the information you provided and our machine learning model's understanding of the relationship between various factors and esophageal cancer risk, it is estimated that you have a high risk of developing esophageal cancer. The model predicts a {prediction_proba[0][1]*100:.2f}% probability of you being in the high-risk group.\\n\\nPlease note that this tool is not a substitute for professional medical advice, diagnosis, or treatment. The results should be considered as an estimate and should not be relied upon for decision-making regarding your health. Always consult with a healthcare professional for personalized medical advice.\")\n",
    "else:\n",
    "    print(f\"Based on the information you provided and our machine learning model's understanding of the relationship between various factors and esophageal cancer risk, it is estimated that you have a low risk of developing esophageal cancer. The model predicts a {prediction_proba[0][0]*100:.2f}% probability of you being in the low-risk group.\\n\\nPlease note that this tool is not a substitute for professional medical advice, diagnosis, or treatment. The results should be considered as an estimate and should not be relied upon for decision-making regarding your health. Always consult with a healthcare professional for personalized medical advice.\")"
   ]
  }
 ],
 "metadata": {
  "kernelspec": {
   "display_name": "Python 3 (ipykernel)",
   "language": "python",
   "name": "python3"
  },
  "language_info": {
   "codemirror_mode": {
    "name": "ipython",
    "version": 3
   },
   "file_extension": ".py",
   "mimetype": "text/x-python",
   "name": "python",
   "nbconvert_exporter": "python",
   "pygments_lexer": "ipython3",
   "version": "3.7.7"
  }
 },
 "nbformat": 4,
 "nbformat_minor": 2
}
